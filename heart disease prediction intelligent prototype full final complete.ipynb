{
 "cells": [
  {
   "cell_type": "code",
   "execution_count": 530,
   "id": "992469f1",
   "metadata": {},
   "outputs": [],
   "source": [
    "import pandas as pd"
   ]
  },
  {
   "cell_type": "code",
   "execution_count": 531,
   "id": "e801b36a",
   "metadata": {},
   "outputs": [],
   "source": [
    "hds = pd.read_csv('heart_statlog_cleveland_hungary_final.csv')"
   ]
  },
  {
   "cell_type": "code",
   "execution_count": 532,
   "id": "f0f53e72",
   "metadata": {},
   "outputs": [
    {
     "data": {
      "text/plain": [
       "age                    0\n",
       "sex                    0\n",
       "chest pain type        0\n",
       "resting bp s           0\n",
       "cholesterol            0\n",
       "fasting blood sugar    0\n",
       "resting ecg            0\n",
       "max heart rate         0\n",
       "exercise angina        0\n",
       "oldpeak                0\n",
       "ST slope               0\n",
       "target                 0\n",
       "dtype: int64"
      ]
     },
     "execution_count": 532,
     "metadata": {},
     "output_type": "execute_result"
    }
   ],
   "source": [
    "hds.isnull().sum()"
   ]
  },
  {
   "cell_type": "code",
   "execution_count": 533,
   "id": "b6c0a6ec",
   "metadata": {},
   "outputs": [],
   "source": [
    "hds_dup = hds.duplicated().any()"
   ]
  },
  {
   "cell_type": "code",
   "execution_count": 534,
   "id": "3045e57a",
   "metadata": {},
   "outputs": [],
   "source": [
    "hds= hds.drop_duplicates()"
   ]
  },
  {
   "cell_type": "code",
   "execution_count": 535,
   "id": "a25b5702",
   "metadata": {},
   "outputs": [],
   "source": [
    "hds_dup = hds.duplicated().any()"
   ]
  },
  {
   "cell_type": "code",
   "execution_count": 536,
   "id": "4a7ebfc0",
   "metadata": {},
   "outputs": [],
   "source": [
    "#####Separating the categorical and numerical columns\n",
    "cat_data = []\n",
    "num_data = []\n",
    "cols = hds.columns\n",
    "for j in cols:\n",
    "    if hds[j].nunique() <=10:\n",
    "        cat_data.append(j)\n",
    "    else:\n",
    "        num_data.append(j)\n",
    "        \n",
    "           "
   ]
  },
  {
   "cell_type": "code",
   "execution_count": 537,
   "id": "251015c4",
   "metadata": {},
   "outputs": [
    {
     "data": {
      "text/plain": [
       "['sex',\n",
       " 'chest pain type',\n",
       " 'fasting blood sugar',\n",
       " 'resting ecg',\n",
       " 'exercise angina',\n",
       " 'ST slope',\n",
       " 'target']"
      ]
     },
     "execution_count": 537,
     "metadata": {},
     "output_type": "execute_result"
    }
   ],
   "source": [
    "####Encoding to the binary vector form \n",
    "cat_data"
   ]
  },
  {
   "cell_type": "code",
   "execution_count": 538,
   "id": "22523d96",
   "metadata": {},
   "outputs": [
    {
     "data": {
      "text/plain": [
       "['age', 'resting bp s', 'cholesterol', 'max heart rate', 'oldpeak']"
      ]
     },
     "execution_count": 538,
     "metadata": {},
     "output_type": "execute_result"
    }
   ],
   "source": [
    "num_data"
   ]
  },
  {
   "cell_type": "code",
   "execution_count": 539,
   "id": "bcd0a5f5",
   "metadata": {},
   "outputs": [
    {
     "data": {
      "text/plain": [
       "array([2, 3, 4, 1], dtype=int64)"
      ]
     },
     "execution_count": 539,
     "metadata": {},
     "output_type": "execute_result"
    }
   ],
   "source": [
    "hds['chest pain type'].unique()"
   ]
  },
  {
   "cell_type": "code",
   "execution_count": 540,
   "id": "085eda5f",
   "metadata": {},
   "outputs": [],
   "source": [
    "cat_data.remove('target')\n",
    "\n"
   ]
  },
  {
   "cell_type": "code",
   "execution_count": 541,
   "id": "c9a787f8",
   "metadata": {},
   "outputs": [],
   "source": [
    "cat_data.remove('sex')"
   ]
  },
  {
   "cell_type": "code",
   "execution_count": 542,
   "id": "b6a4b955",
   "metadata": {},
   "outputs": [],
   "source": [
    "hds = pd.get_dummies(hds,columns=cat_data, drop_first=True)"
   ]
  },
  {
   "cell_type": "code",
   "execution_count": 543,
   "id": "13f75a6a",
   "metadata": {},
   "outputs": [
    {
     "data": {
      "text/plain": [
       "['chest pain type',\n",
       " 'fasting blood sugar',\n",
       " 'resting ecg',\n",
       " 'exercise angina',\n",
       " 'ST slope']"
      ]
     },
     "execution_count": 543,
     "metadata": {},
     "output_type": "execute_result"
    }
   ],
   "source": [
    "cat_data"
   ]
  },
  {
   "cell_type": "code",
   "execution_count": 544,
   "id": "861e7182",
   "metadata": {},
   "outputs": [
    {
     "data": {
      "text/html": [
       "<div>\n",
       "<style scoped>\n",
       "    .dataframe tbody tr th:only-of-type {\n",
       "        vertical-align: middle;\n",
       "    }\n",
       "\n",
       "    .dataframe tbody tr th {\n",
       "        vertical-align: top;\n",
       "    }\n",
       "\n",
       "    .dataframe thead th {\n",
       "        text-align: right;\n",
       "    }\n",
       "</style>\n",
       "<table border=\"1\" class=\"dataframe\">\n",
       "  <thead>\n",
       "    <tr style=\"text-align: right;\">\n",
       "      <th></th>\n",
       "      <th>age</th>\n",
       "      <th>sex</th>\n",
       "      <th>resting bp s</th>\n",
       "      <th>cholesterol</th>\n",
       "      <th>max heart rate</th>\n",
       "      <th>oldpeak</th>\n",
       "      <th>target</th>\n",
       "      <th>chest pain type_2</th>\n",
       "      <th>chest pain type_3</th>\n",
       "      <th>chest pain type_4</th>\n",
       "      <th>fasting blood sugar_1</th>\n",
       "      <th>resting ecg_1</th>\n",
       "      <th>resting ecg_2</th>\n",
       "      <th>exercise angina_1</th>\n",
       "      <th>ST slope_1</th>\n",
       "      <th>ST slope_2</th>\n",
       "      <th>ST slope_3</th>\n",
       "    </tr>\n",
       "  </thead>\n",
       "  <tbody>\n",
       "    <tr>\n",
       "      <th>0</th>\n",
       "      <td>40</td>\n",
       "      <td>1</td>\n",
       "      <td>140</td>\n",
       "      <td>289</td>\n",
       "      <td>172</td>\n",
       "      <td>0.0</td>\n",
       "      <td>0</td>\n",
       "      <td>1</td>\n",
       "      <td>0</td>\n",
       "      <td>0</td>\n",
       "      <td>0</td>\n",
       "      <td>0</td>\n",
       "      <td>0</td>\n",
       "      <td>0</td>\n",
       "      <td>1</td>\n",
       "      <td>0</td>\n",
       "      <td>0</td>\n",
       "    </tr>\n",
       "    <tr>\n",
       "      <th>1</th>\n",
       "      <td>49</td>\n",
       "      <td>0</td>\n",
       "      <td>160</td>\n",
       "      <td>180</td>\n",
       "      <td>156</td>\n",
       "      <td>1.0</td>\n",
       "      <td>1</td>\n",
       "      <td>0</td>\n",
       "      <td>1</td>\n",
       "      <td>0</td>\n",
       "      <td>0</td>\n",
       "      <td>0</td>\n",
       "      <td>0</td>\n",
       "      <td>0</td>\n",
       "      <td>0</td>\n",
       "      <td>1</td>\n",
       "      <td>0</td>\n",
       "    </tr>\n",
       "    <tr>\n",
       "      <th>2</th>\n",
       "      <td>37</td>\n",
       "      <td>1</td>\n",
       "      <td>130</td>\n",
       "      <td>283</td>\n",
       "      <td>98</td>\n",
       "      <td>0.0</td>\n",
       "      <td>0</td>\n",
       "      <td>1</td>\n",
       "      <td>0</td>\n",
       "      <td>0</td>\n",
       "      <td>0</td>\n",
       "      <td>1</td>\n",
       "      <td>0</td>\n",
       "      <td>0</td>\n",
       "      <td>1</td>\n",
       "      <td>0</td>\n",
       "      <td>0</td>\n",
       "    </tr>\n",
       "    <tr>\n",
       "      <th>3</th>\n",
       "      <td>48</td>\n",
       "      <td>0</td>\n",
       "      <td>138</td>\n",
       "      <td>214</td>\n",
       "      <td>108</td>\n",
       "      <td>1.5</td>\n",
       "      <td>1</td>\n",
       "      <td>0</td>\n",
       "      <td>0</td>\n",
       "      <td>1</td>\n",
       "      <td>0</td>\n",
       "      <td>0</td>\n",
       "      <td>0</td>\n",
       "      <td>1</td>\n",
       "      <td>0</td>\n",
       "      <td>1</td>\n",
       "      <td>0</td>\n",
       "    </tr>\n",
       "    <tr>\n",
       "      <th>4</th>\n",
       "      <td>54</td>\n",
       "      <td>1</td>\n",
       "      <td>150</td>\n",
       "      <td>195</td>\n",
       "      <td>122</td>\n",
       "      <td>0.0</td>\n",
       "      <td>0</td>\n",
       "      <td>0</td>\n",
       "      <td>1</td>\n",
       "      <td>0</td>\n",
       "      <td>0</td>\n",
       "      <td>0</td>\n",
       "      <td>0</td>\n",
       "      <td>0</td>\n",
       "      <td>1</td>\n",
       "      <td>0</td>\n",
       "      <td>0</td>\n",
       "    </tr>\n",
       "  </tbody>\n",
       "</table>\n",
       "</div>"
      ],
      "text/plain": [
       "   age  sex  resting bp s  cholesterol  max heart rate  oldpeak  target  \\\n",
       "0   40    1           140          289             172      0.0       0   \n",
       "1   49    0           160          180             156      1.0       1   \n",
       "2   37    1           130          283              98      0.0       0   \n",
       "3   48    0           138          214             108      1.5       1   \n",
       "4   54    1           150          195             122      0.0       0   \n",
       "\n",
       "   chest pain type_2  chest pain type_3  chest pain type_4  \\\n",
       "0                  1                  0                  0   \n",
       "1                  0                  1                  0   \n",
       "2                  1                  0                  0   \n",
       "3                  0                  0                  1   \n",
       "4                  0                  1                  0   \n",
       "\n",
       "   fasting blood sugar_1  resting ecg_1  resting ecg_2  exercise angina_1  \\\n",
       "0                      0              0              0                  0   \n",
       "1                      0              0              0                  0   \n",
       "2                      0              1              0                  0   \n",
       "3                      0              0              0                  1   \n",
       "4                      0              0              0                  0   \n",
       "\n",
       "   ST slope_1  ST slope_2  ST slope_3  \n",
       "0           1           0           0  \n",
       "1           0           1           0  \n",
       "2           1           0           0  \n",
       "3           0           1           0  \n",
       "4           1           0           0  "
      ]
     },
     "execution_count": 544,
     "metadata": {},
     "output_type": "execute_result"
    }
   ],
   "source": [
    "hds.head()"
   ]
  },
  {
   "cell_type": "code",
   "execution_count": 545,
   "id": "1e64d5a2",
   "metadata": {},
   "outputs": [],
   "source": [
    "####Feature Scaling\n",
    "from sklearn.preprocessing import StandardScaler"
   ]
  },
  {
   "cell_type": "code",
   "execution_count": 546,
   "id": "716549de",
   "metadata": {},
   "outputs": [],
   "source": [
    "SS = StandardScaler()##instance of standardscaler"
   ]
  },
  {
   "cell_type": "code",
   "execution_count": 547,
   "id": "94299d74",
   "metadata": {},
   "outputs": [],
   "source": [
    "hds[num_data] = SS.fit_transform(hds[num_data])###do the fit and transformation of the numerical columns\n",
    "####after they are scaled the values will be in the range of -4 to 4, -3 to 3, -2 to 2 or -1 to 1 which totally depends on the dataset."
   ]
  },
  {
   "cell_type": "code",
   "execution_count": 548,
   "id": "4614b871",
   "metadata": {},
   "outputs": [
    {
     "data": {
      "text/html": [
       "<div>\n",
       "<style scoped>\n",
       "    .dataframe tbody tr th:only-of-type {\n",
       "        vertical-align: middle;\n",
       "    }\n",
       "\n",
       "    .dataframe tbody tr th {\n",
       "        vertical-align: top;\n",
       "    }\n",
       "\n",
       "    .dataframe thead th {\n",
       "        text-align: right;\n",
       "    }\n",
       "</style>\n",
       "<table border=\"1\" class=\"dataframe\">\n",
       "  <thead>\n",
       "    <tr style=\"text-align: right;\">\n",
       "      <th></th>\n",
       "      <th>age</th>\n",
       "      <th>sex</th>\n",
       "      <th>resting bp s</th>\n",
       "      <th>cholesterol</th>\n",
       "      <th>max heart rate</th>\n",
       "      <th>oldpeak</th>\n",
       "      <th>target</th>\n",
       "      <th>chest pain type_2</th>\n",
       "      <th>chest pain type_3</th>\n",
       "      <th>chest pain type_4</th>\n",
       "      <th>fasting blood sugar_1</th>\n",
       "      <th>resting ecg_1</th>\n",
       "      <th>resting ecg_2</th>\n",
       "      <th>exercise angina_1</th>\n",
       "      <th>ST slope_1</th>\n",
       "      <th>ST slope_2</th>\n",
       "      <th>ST slope_3</th>\n",
       "    </tr>\n",
       "  </thead>\n",
       "  <tbody>\n",
       "    <tr>\n",
       "      <th>0</th>\n",
       "      <td>-1.433140</td>\n",
       "      <td>1</td>\n",
       "      <td>0.410909</td>\n",
       "      <td>0.825070</td>\n",
       "      <td>1.382928</td>\n",
       "      <td>-0.832432</td>\n",
       "      <td>0</td>\n",
       "      <td>1</td>\n",
       "      <td>0</td>\n",
       "      <td>0</td>\n",
       "      <td>0</td>\n",
       "      <td>0</td>\n",
       "      <td>0</td>\n",
       "      <td>0</td>\n",
       "      <td>1</td>\n",
       "      <td>0</td>\n",
       "      <td>0</td>\n",
       "    </tr>\n",
       "    <tr>\n",
       "      <th>1</th>\n",
       "      <td>-0.478484</td>\n",
       "      <td>0</td>\n",
       "      <td>1.491752</td>\n",
       "      <td>-0.171961</td>\n",
       "      <td>0.754157</td>\n",
       "      <td>0.105664</td>\n",
       "      <td>1</td>\n",
       "      <td>0</td>\n",
       "      <td>1</td>\n",
       "      <td>0</td>\n",
       "      <td>0</td>\n",
       "      <td>0</td>\n",
       "      <td>0</td>\n",
       "      <td>0</td>\n",
       "      <td>0</td>\n",
       "      <td>1</td>\n",
       "      <td>0</td>\n",
       "    </tr>\n",
       "    <tr>\n",
       "      <th>2</th>\n",
       "      <td>-1.751359</td>\n",
       "      <td>1</td>\n",
       "      <td>-0.129513</td>\n",
       "      <td>0.770188</td>\n",
       "      <td>-1.525138</td>\n",
       "      <td>-0.832432</td>\n",
       "      <td>0</td>\n",
       "      <td>1</td>\n",
       "      <td>0</td>\n",
       "      <td>0</td>\n",
       "      <td>0</td>\n",
       "      <td>1</td>\n",
       "      <td>0</td>\n",
       "      <td>0</td>\n",
       "      <td>1</td>\n",
       "      <td>0</td>\n",
       "      <td>0</td>\n",
       "    </tr>\n",
       "    <tr>\n",
       "      <th>3</th>\n",
       "      <td>-0.584556</td>\n",
       "      <td>0</td>\n",
       "      <td>0.302825</td>\n",
       "      <td>0.139040</td>\n",
       "      <td>-1.132156</td>\n",
       "      <td>0.574711</td>\n",
       "      <td>1</td>\n",
       "      <td>0</td>\n",
       "      <td>0</td>\n",
       "      <td>1</td>\n",
       "      <td>0</td>\n",
       "      <td>0</td>\n",
       "      <td>0</td>\n",
       "      <td>1</td>\n",
       "      <td>0</td>\n",
       "      <td>1</td>\n",
       "      <td>0</td>\n",
       "    </tr>\n",
       "    <tr>\n",
       "      <th>4</th>\n",
       "      <td>0.051881</td>\n",
       "      <td>1</td>\n",
       "      <td>0.951331</td>\n",
       "      <td>-0.034755</td>\n",
       "      <td>-0.581981</td>\n",
       "      <td>-0.832432</td>\n",
       "      <td>0</td>\n",
       "      <td>0</td>\n",
       "      <td>1</td>\n",
       "      <td>0</td>\n",
       "      <td>0</td>\n",
       "      <td>0</td>\n",
       "      <td>0</td>\n",
       "      <td>0</td>\n",
       "      <td>1</td>\n",
       "      <td>0</td>\n",
       "      <td>0</td>\n",
       "    </tr>\n",
       "  </tbody>\n",
       "</table>\n",
       "</div>"
      ],
      "text/plain": [
       "        age  sex  resting bp s  cholesterol  max heart rate   oldpeak  target  \\\n",
       "0 -1.433140    1      0.410909     0.825070        1.382928 -0.832432       0   \n",
       "1 -0.478484    0      1.491752    -0.171961        0.754157  0.105664       1   \n",
       "2 -1.751359    1     -0.129513     0.770188       -1.525138 -0.832432       0   \n",
       "3 -0.584556    0      0.302825     0.139040       -1.132156  0.574711       1   \n",
       "4  0.051881    1      0.951331    -0.034755       -0.581981 -0.832432       0   \n",
       "\n",
       "   chest pain type_2  chest pain type_3  chest pain type_4  \\\n",
       "0                  1                  0                  0   \n",
       "1                  0                  1                  0   \n",
       "2                  1                  0                  0   \n",
       "3                  0                  0                  1   \n",
       "4                  0                  1                  0   \n",
       "\n",
       "   fasting blood sugar_1  resting ecg_1  resting ecg_2  exercise angina_1  \\\n",
       "0                      0              0              0                  0   \n",
       "1                      0              0              0                  0   \n",
       "2                      0              1              0                  0   \n",
       "3                      0              0              0                  1   \n",
       "4                      0              0              0                  0   \n",
       "\n",
       "   ST slope_1  ST slope_2  ST slope_3  \n",
       "0           1           0           0  \n",
       "1           0           1           0  \n",
       "2           1           0           0  \n",
       "3           0           1           0  \n",
       "4           1           0           0  "
      ]
     },
     "execution_count": 548,
     "metadata": {},
     "output_type": "execute_result"
    }
   ],
   "source": [
    "hds.head()"
   ]
  },
  {
   "cell_type": "code",
   "execution_count": 549,
   "id": "a9e50e34",
   "metadata": {},
   "outputs": [],
   "source": [
    "X = hds.drop('target',axis=1)\n"
   ]
  },
  {
   "cell_type": "code",
   "execution_count": 550,
   "id": "cc1fd2ac",
   "metadata": {},
   "outputs": [
    {
     "data": {
      "text/html": [
       "<div>\n",
       "<style scoped>\n",
       "    .dataframe tbody tr th:only-of-type {\n",
       "        vertical-align: middle;\n",
       "    }\n",
       "\n",
       "    .dataframe tbody tr th {\n",
       "        vertical-align: top;\n",
       "    }\n",
       "\n",
       "    .dataframe thead th {\n",
       "        text-align: right;\n",
       "    }\n",
       "</style>\n",
       "<table border=\"1\" class=\"dataframe\">\n",
       "  <thead>\n",
       "    <tr style=\"text-align: right;\">\n",
       "      <th></th>\n",
       "      <th>age</th>\n",
       "      <th>sex</th>\n",
       "      <th>resting bp s</th>\n",
       "      <th>cholesterol</th>\n",
       "      <th>max heart rate</th>\n",
       "      <th>oldpeak</th>\n",
       "      <th>chest pain type_2</th>\n",
       "      <th>chest pain type_3</th>\n",
       "      <th>chest pain type_4</th>\n",
       "      <th>fasting blood sugar_1</th>\n",
       "      <th>resting ecg_1</th>\n",
       "      <th>resting ecg_2</th>\n",
       "      <th>exercise angina_1</th>\n",
       "      <th>ST slope_1</th>\n",
       "      <th>ST slope_2</th>\n",
       "      <th>ST slope_3</th>\n",
       "    </tr>\n",
       "  </thead>\n",
       "  <tbody>\n",
       "    <tr>\n",
       "      <th>0</th>\n",
       "      <td>-1.433140</td>\n",
       "      <td>1</td>\n",
       "      <td>0.410909</td>\n",
       "      <td>0.825070</td>\n",
       "      <td>1.382928</td>\n",
       "      <td>-0.832432</td>\n",
       "      <td>1</td>\n",
       "      <td>0</td>\n",
       "      <td>0</td>\n",
       "      <td>0</td>\n",
       "      <td>0</td>\n",
       "      <td>0</td>\n",
       "      <td>0</td>\n",
       "      <td>1</td>\n",
       "      <td>0</td>\n",
       "      <td>0</td>\n",
       "    </tr>\n",
       "    <tr>\n",
       "      <th>1</th>\n",
       "      <td>-0.478484</td>\n",
       "      <td>0</td>\n",
       "      <td>1.491752</td>\n",
       "      <td>-0.171961</td>\n",
       "      <td>0.754157</td>\n",
       "      <td>0.105664</td>\n",
       "      <td>0</td>\n",
       "      <td>1</td>\n",
       "      <td>0</td>\n",
       "      <td>0</td>\n",
       "      <td>0</td>\n",
       "      <td>0</td>\n",
       "      <td>0</td>\n",
       "      <td>0</td>\n",
       "      <td>1</td>\n",
       "      <td>0</td>\n",
       "    </tr>\n",
       "    <tr>\n",
       "      <th>2</th>\n",
       "      <td>-1.751359</td>\n",
       "      <td>1</td>\n",
       "      <td>-0.129513</td>\n",
       "      <td>0.770188</td>\n",
       "      <td>-1.525138</td>\n",
       "      <td>-0.832432</td>\n",
       "      <td>1</td>\n",
       "      <td>0</td>\n",
       "      <td>0</td>\n",
       "      <td>0</td>\n",
       "      <td>1</td>\n",
       "      <td>0</td>\n",
       "      <td>0</td>\n",
       "      <td>1</td>\n",
       "      <td>0</td>\n",
       "      <td>0</td>\n",
       "    </tr>\n",
       "    <tr>\n",
       "      <th>3</th>\n",
       "      <td>-0.584556</td>\n",
       "      <td>0</td>\n",
       "      <td>0.302825</td>\n",
       "      <td>0.139040</td>\n",
       "      <td>-1.132156</td>\n",
       "      <td>0.574711</td>\n",
       "      <td>0</td>\n",
       "      <td>0</td>\n",
       "      <td>1</td>\n",
       "      <td>0</td>\n",
       "      <td>0</td>\n",
       "      <td>0</td>\n",
       "      <td>1</td>\n",
       "      <td>0</td>\n",
       "      <td>1</td>\n",
       "      <td>0</td>\n",
       "    </tr>\n",
       "    <tr>\n",
       "      <th>4</th>\n",
       "      <td>0.051881</td>\n",
       "      <td>1</td>\n",
       "      <td>0.951331</td>\n",
       "      <td>-0.034755</td>\n",
       "      <td>-0.581981</td>\n",
       "      <td>-0.832432</td>\n",
       "      <td>0</td>\n",
       "      <td>1</td>\n",
       "      <td>0</td>\n",
       "      <td>0</td>\n",
       "      <td>0</td>\n",
       "      <td>0</td>\n",
       "      <td>0</td>\n",
       "      <td>1</td>\n",
       "      <td>0</td>\n",
       "      <td>0</td>\n",
       "    </tr>\n",
       "    <tr>\n",
       "      <th>...</th>\n",
       "      <td>...</td>\n",
       "      <td>...</td>\n",
       "      <td>...</td>\n",
       "      <td>...</td>\n",
       "      <td>...</td>\n",
       "      <td>...</td>\n",
       "      <td>...</td>\n",
       "      <td>...</td>\n",
       "      <td>...</td>\n",
       "      <td>...</td>\n",
       "      <td>...</td>\n",
       "      <td>...</td>\n",
       "      <td>...</td>\n",
       "      <td>...</td>\n",
       "      <td>...</td>\n",
       "      <td>...</td>\n",
       "    </tr>\n",
       "    <tr>\n",
       "      <th>1185</th>\n",
       "      <td>-0.902775</td>\n",
       "      <td>1</td>\n",
       "      <td>-1.210356</td>\n",
       "      <td>0.596393</td>\n",
       "      <td>-0.188999</td>\n",
       "      <td>0.293283</td>\n",
       "      <td>0</td>\n",
       "      <td>0</td>\n",
       "      <td>0</td>\n",
       "      <td>0</td>\n",
       "      <td>0</td>\n",
       "      <td>0</td>\n",
       "      <td>0</td>\n",
       "      <td>0</td>\n",
       "      <td>1</td>\n",
       "      <td>0</td>\n",
       "    </tr>\n",
       "    <tr>\n",
       "      <th>1186</th>\n",
       "      <td>1.536902</td>\n",
       "      <td>1</td>\n",
       "      <td>0.627078</td>\n",
       "      <td>-0.053049</td>\n",
       "      <td>0.164684</td>\n",
       "      <td>2.357094</td>\n",
       "      <td>0</td>\n",
       "      <td>0</td>\n",
       "      <td>1</td>\n",
       "      <td>1</td>\n",
       "      <td>0</td>\n",
       "      <td>0</td>\n",
       "      <td>0</td>\n",
       "      <td>0</td>\n",
       "      <td>1</td>\n",
       "      <td>0</td>\n",
       "    </tr>\n",
       "    <tr>\n",
       "      <th>1187</th>\n",
       "      <td>0.370100</td>\n",
       "      <td>1</td>\n",
       "      <td>-0.129513</td>\n",
       "      <td>-0.620168</td>\n",
       "      <td>-0.857069</td>\n",
       "      <td>0.293283</td>\n",
       "      <td>0</td>\n",
       "      <td>0</td>\n",
       "      <td>1</td>\n",
       "      <td>0</td>\n",
       "      <td>0</td>\n",
       "      <td>0</td>\n",
       "      <td>1</td>\n",
       "      <td>0</td>\n",
       "      <td>1</td>\n",
       "      <td>0</td>\n",
       "    </tr>\n",
       "    <tr>\n",
       "      <th>1188</th>\n",
       "      <td>0.370100</td>\n",
       "      <td>0</td>\n",
       "      <td>-0.129513</td>\n",
       "      <td>0.340275</td>\n",
       "      <td>1.461525</td>\n",
       "      <td>-0.832432</td>\n",
       "      <td>1</td>\n",
       "      <td>0</td>\n",
       "      <td>0</td>\n",
       "      <td>0</td>\n",
       "      <td>0</td>\n",
       "      <td>1</td>\n",
       "      <td>0</td>\n",
       "      <td>0</td>\n",
       "      <td>1</td>\n",
       "      <td>0</td>\n",
       "    </tr>\n",
       "    <tr>\n",
       "      <th>1189</th>\n",
       "      <td>-1.645286</td>\n",
       "      <td>1</td>\n",
       "      <td>0.302825</td>\n",
       "      <td>-0.217696</td>\n",
       "      <td>1.422226</td>\n",
       "      <td>-0.832432</td>\n",
       "      <td>0</td>\n",
       "      <td>1</td>\n",
       "      <td>0</td>\n",
       "      <td>0</td>\n",
       "      <td>0</td>\n",
       "      <td>0</td>\n",
       "      <td>0</td>\n",
       "      <td>1</td>\n",
       "      <td>0</td>\n",
       "      <td>0</td>\n",
       "    </tr>\n",
       "  </tbody>\n",
       "</table>\n",
       "<p>918 rows × 16 columns</p>\n",
       "</div>"
      ],
      "text/plain": [
       "           age  sex  resting bp s  cholesterol  max heart rate   oldpeak  \\\n",
       "0    -1.433140    1      0.410909     0.825070        1.382928 -0.832432   \n",
       "1    -0.478484    0      1.491752    -0.171961        0.754157  0.105664   \n",
       "2    -1.751359    1     -0.129513     0.770188       -1.525138 -0.832432   \n",
       "3    -0.584556    0      0.302825     0.139040       -1.132156  0.574711   \n",
       "4     0.051881    1      0.951331    -0.034755       -0.581981 -0.832432   \n",
       "...        ...  ...           ...          ...             ...       ...   \n",
       "1185 -0.902775    1     -1.210356     0.596393       -0.188999  0.293283   \n",
       "1186  1.536902    1      0.627078    -0.053049        0.164684  2.357094   \n",
       "1187  0.370100    1     -0.129513    -0.620168       -0.857069  0.293283   \n",
       "1188  0.370100    0     -0.129513     0.340275        1.461525 -0.832432   \n",
       "1189 -1.645286    1      0.302825    -0.217696        1.422226 -0.832432   \n",
       "\n",
       "      chest pain type_2  chest pain type_3  chest pain type_4  \\\n",
       "0                     1                  0                  0   \n",
       "1                     0                  1                  0   \n",
       "2                     1                  0                  0   \n",
       "3                     0                  0                  1   \n",
       "4                     0                  1                  0   \n",
       "...                 ...                ...                ...   \n",
       "1185                  0                  0                  0   \n",
       "1186                  0                  0                  1   \n",
       "1187                  0                  0                  1   \n",
       "1188                  1                  0                  0   \n",
       "1189                  0                  1                  0   \n",
       "\n",
       "      fasting blood sugar_1  resting ecg_1  resting ecg_2  exercise angina_1  \\\n",
       "0                         0              0              0                  0   \n",
       "1                         0              0              0                  0   \n",
       "2                         0              1              0                  0   \n",
       "3                         0              0              0                  1   \n",
       "4                         0              0              0                  0   \n",
       "...                     ...            ...            ...                ...   \n",
       "1185                      0              0              0                  0   \n",
       "1186                      1              0              0                  0   \n",
       "1187                      0              0              0                  1   \n",
       "1188                      0              0              1                  0   \n",
       "1189                      0              0              0                  0   \n",
       "\n",
       "      ST slope_1  ST slope_2  ST slope_3  \n",
       "0              1           0           0  \n",
       "1              0           1           0  \n",
       "2              1           0           0  \n",
       "3              0           1           0  \n",
       "4              1           0           0  \n",
       "...          ...         ...         ...  \n",
       "1185           0           1           0  \n",
       "1186           0           1           0  \n",
       "1187           0           1           0  \n",
       "1188           0           1           0  \n",
       "1189           1           0           0  \n",
       "\n",
       "[918 rows x 16 columns]"
      ]
     },
     "execution_count": 550,
     "metadata": {},
     "output_type": "execute_result"
    }
   ],
   "source": [
    "X"
   ]
  },
  {
   "cell_type": "code",
   "execution_count": 551,
   "id": "43cf788e",
   "metadata": {},
   "outputs": [],
   "source": [
    "y = hds['target']\n"
   ]
  },
  {
   "cell_type": "code",
   "execution_count": 552,
   "id": "746a9e3b",
   "metadata": {},
   "outputs": [
    {
     "data": {
      "text/plain": [
       "0       0\n",
       "1       1\n",
       "2       0\n",
       "3       1\n",
       "4       0\n",
       "       ..\n",
       "1185    1\n",
       "1186    1\n",
       "1187    1\n",
       "1188    1\n",
       "1189    0\n",
       "Name: target, Length: 918, dtype: int64"
      ]
     },
     "execution_count": 552,
     "metadata": {},
     "output_type": "execute_result"
    }
   ],
   "source": [
    "y"
   ]
  },
  {
   "cell_type": "code",
   "execution_count": 553,
   "id": "81b4f882",
   "metadata": {},
   "outputs": [],
   "source": [
    "from sklearn.model_selection import train_test_split\n"
   ]
  },
  {
   "cell_type": "code",
   "execution_count": 554,
   "id": "c379821f",
   "metadata": {},
   "outputs": [],
   "source": [
    "X_train,X_test,y_train,y_test=train_test_split(X,y,test_size=0.2,\n",
    "                                               random_state=38)"
   ]
  },
  {
   "cell_type": "code",
   "execution_count": 555,
   "id": "ecd2d0e0",
   "metadata": {},
   "outputs": [
    {
     "name": "stdout",
     "output_type": "stream",
     "text": [
      "(734, 16) (184, 16) (734,) (184,)\n"
     ]
    }
   ],
   "source": [
    "print(X_train.shape, X_test.shape, y_train.shape, y_test.shape)"
   ]
  },
  {
   "cell_type": "code",
   "execution_count": 556,
   "id": "a4db9f1c",
   "metadata": {},
   "outputs": [
    {
     "data": {
      "text/html": [
       "<div>\n",
       "<style scoped>\n",
       "    .dataframe tbody tr th:only-of-type {\n",
       "        vertical-align: middle;\n",
       "    }\n",
       "\n",
       "    .dataframe tbody tr th {\n",
       "        vertical-align: top;\n",
       "    }\n",
       "\n",
       "    .dataframe thead th {\n",
       "        text-align: right;\n",
       "    }\n",
       "</style>\n",
       "<table border=\"1\" class=\"dataframe\">\n",
       "  <thead>\n",
       "    <tr style=\"text-align: right;\">\n",
       "      <th></th>\n",
       "      <th>age</th>\n",
       "      <th>sex</th>\n",
       "      <th>resting bp s</th>\n",
       "      <th>cholesterol</th>\n",
       "      <th>max heart rate</th>\n",
       "      <th>oldpeak</th>\n",
       "      <th>chest pain type_2</th>\n",
       "      <th>chest pain type_3</th>\n",
       "      <th>chest pain type_4</th>\n",
       "      <th>fasting blood sugar_1</th>\n",
       "      <th>resting ecg_1</th>\n",
       "      <th>resting ecg_2</th>\n",
       "      <th>exercise angina_1</th>\n",
       "      <th>ST slope_1</th>\n",
       "      <th>ST slope_2</th>\n",
       "      <th>ST slope_3</th>\n",
       "    </tr>\n",
       "  </thead>\n",
       "  <tbody>\n",
       "    <tr>\n",
       "      <th>274</th>\n",
       "      <td>0.157954</td>\n",
       "      <td>1</td>\n",
       "      <td>-0.669935</td>\n",
       "      <td>0.193922</td>\n",
       "      <td>-0.110403</td>\n",
       "      <td>-0.832432</td>\n",
       "      <td>0</td>\n",
       "      <td>1</td>\n",
       "      <td>0</td>\n",
       "      <td>0</td>\n",
       "      <td>0</td>\n",
       "      <td>1</td>\n",
       "      <td>0</td>\n",
       "      <td>1</td>\n",
       "      <td>0</td>\n",
       "      <td>0</td>\n",
       "    </tr>\n",
       "    <tr>\n",
       "      <th>681</th>\n",
       "      <td>1.006537</td>\n",
       "      <td>1</td>\n",
       "      <td>0.681120</td>\n",
       "      <td>0.312834</td>\n",
       "      <td>0.518368</td>\n",
       "      <td>1.325188</td>\n",
       "      <td>0</td>\n",
       "      <td>0</td>\n",
       "      <td>0</td>\n",
       "      <td>1</td>\n",
       "      <td>0</td>\n",
       "      <td>1</td>\n",
       "      <td>0</td>\n",
       "      <td>0</td>\n",
       "      <td>0</td>\n",
       "      <td>1</td>\n",
       "    </tr>\n",
       "    <tr>\n",
       "      <th>350</th>\n",
       "      <td>-1.857431</td>\n",
       "      <td>1</td>\n",
       "      <td>-1.210356</td>\n",
       "      <td>-1.818435</td>\n",
       "      <td>-0.464087</td>\n",
       "      <td>0.105664</td>\n",
       "      <td>0</td>\n",
       "      <td>0</td>\n",
       "      <td>1</td>\n",
       "      <td>1</td>\n",
       "      <td>0</td>\n",
       "      <td>0</td>\n",
       "      <td>1</td>\n",
       "      <td>0</td>\n",
       "      <td>1</td>\n",
       "      <td>0</td>\n",
       "    </tr>\n",
       "    <tr>\n",
       "      <th>792</th>\n",
       "      <td>0.900464</td>\n",
       "      <td>0</td>\n",
       "      <td>0.302825</td>\n",
       "      <td>0.870806</td>\n",
       "      <td>-1.210752</td>\n",
       "      <td>0.949950</td>\n",
       "      <td>0</td>\n",
       "      <td>0</td>\n",
       "      <td>1</td>\n",
       "      <td>1</td>\n",
       "      <td>0</td>\n",
       "      <td>0</td>\n",
       "      <td>0</td>\n",
       "      <td>0</td>\n",
       "      <td>1</td>\n",
       "      <td>0</td>\n",
       "    </tr>\n",
       "    <tr>\n",
       "      <th>348</th>\n",
       "      <td>-0.584556</td>\n",
       "      <td>1</td>\n",
       "      <td>-0.940145</td>\n",
       "      <td>-1.818435</td>\n",
       "      <td>-0.346192</td>\n",
       "      <td>-0.832432</td>\n",
       "      <td>0</td>\n",
       "      <td>0</td>\n",
       "      <td>1</td>\n",
       "      <td>1</td>\n",
       "      <td>0</td>\n",
       "      <td>0</td>\n",
       "      <td>0</td>\n",
       "      <td>0</td>\n",
       "      <td>1</td>\n",
       "      <td>0</td>\n",
       "    </tr>\n",
       "    <tr>\n",
       "      <th>...</th>\n",
       "      <td>...</td>\n",
       "      <td>...</td>\n",
       "      <td>...</td>\n",
       "      <td>...</td>\n",
       "      <td>...</td>\n",
       "      <td>...</td>\n",
       "      <td>...</td>\n",
       "      <td>...</td>\n",
       "      <td>...</td>\n",
       "      <td>...</td>\n",
       "      <td>...</td>\n",
       "      <td>...</td>\n",
       "      <td>...</td>\n",
       "      <td>...</td>\n",
       "      <td>...</td>\n",
       "      <td>...</td>\n",
       "    </tr>\n",
       "    <tr>\n",
       "      <th>531</th>\n",
       "      <td>-0.372411</td>\n",
       "      <td>1</td>\n",
       "      <td>0.032614</td>\n",
       "      <td>0.175628</td>\n",
       "      <td>-0.346192</td>\n",
       "      <td>0.199473</td>\n",
       "      <td>0</td>\n",
       "      <td>0</td>\n",
       "      <td>1</td>\n",
       "      <td>0</td>\n",
       "      <td>0</td>\n",
       "      <td>0</td>\n",
       "      <td>1</td>\n",
       "      <td>0</td>\n",
       "      <td>1</td>\n",
       "      <td>0</td>\n",
       "    </tr>\n",
       "    <tr>\n",
       "      <th>571</th>\n",
       "      <td>0.264027</td>\n",
       "      <td>1</td>\n",
       "      <td>-0.237597</td>\n",
       "      <td>0.221363</td>\n",
       "      <td>-0.699876</td>\n",
       "      <td>1.043759</td>\n",
       "      <td>0</td>\n",
       "      <td>0</td>\n",
       "      <td>1</td>\n",
       "      <td>0</td>\n",
       "      <td>1</td>\n",
       "      <td>0</td>\n",
       "      <td>1</td>\n",
       "      <td>0</td>\n",
       "      <td>0</td>\n",
       "      <td>1</td>\n",
       "    </tr>\n",
       "    <tr>\n",
       "      <th>836</th>\n",
       "      <td>-1.008848</td>\n",
       "      <td>1</td>\n",
       "      <td>-0.669935</td>\n",
       "      <td>0.193922</td>\n",
       "      <td>1.304332</td>\n",
       "      <td>-0.832432</td>\n",
       "      <td>1</td>\n",
       "      <td>0</td>\n",
       "      <td>0</td>\n",
       "      <td>0</td>\n",
       "      <td>0</td>\n",
       "      <td>0</td>\n",
       "      <td>0</td>\n",
       "      <td>1</td>\n",
       "      <td>0</td>\n",
       "      <td>0</td>\n",
       "    </tr>\n",
       "    <tr>\n",
       "      <th>781</th>\n",
       "      <td>-1.114921</td>\n",
       "      <td>1</td>\n",
       "      <td>-1.210356</td>\n",
       "      <td>0.111598</td>\n",
       "      <td>0.950648</td>\n",
       "      <td>-0.832432</td>\n",
       "      <td>0</td>\n",
       "      <td>0</td>\n",
       "      <td>1</td>\n",
       "      <td>0</td>\n",
       "      <td>0</td>\n",
       "      <td>0</td>\n",
       "      <td>0</td>\n",
       "      <td>1</td>\n",
       "      <td>0</td>\n",
       "      <td>0</td>\n",
       "    </tr>\n",
       "    <tr>\n",
       "      <th>328</th>\n",
       "      <td>0.582246</td>\n",
       "      <td>1</td>\n",
       "      <td>-0.399724</td>\n",
       "      <td>-1.818435</td>\n",
       "      <td>-0.699876</td>\n",
       "      <td>0.011854</td>\n",
       "      <td>0</td>\n",
       "      <td>0</td>\n",
       "      <td>1</td>\n",
       "      <td>1</td>\n",
       "      <td>0</td>\n",
       "      <td>0</td>\n",
       "      <td>1</td>\n",
       "      <td>1</td>\n",
       "      <td>0</td>\n",
       "      <td>0</td>\n",
       "    </tr>\n",
       "  </tbody>\n",
       "</table>\n",
       "<p>184 rows × 16 columns</p>\n",
       "</div>"
      ],
      "text/plain": [
       "          age  sex  resting bp s  cholesterol  max heart rate   oldpeak  \\\n",
       "274  0.157954    1     -0.669935     0.193922       -0.110403 -0.832432   \n",
       "681  1.006537    1      0.681120     0.312834        0.518368  1.325188   \n",
       "350 -1.857431    1     -1.210356    -1.818435       -0.464087  0.105664   \n",
       "792  0.900464    0      0.302825     0.870806       -1.210752  0.949950   \n",
       "348 -0.584556    1     -0.940145    -1.818435       -0.346192 -0.832432   \n",
       "..        ...  ...           ...          ...             ...       ...   \n",
       "531 -0.372411    1      0.032614     0.175628       -0.346192  0.199473   \n",
       "571  0.264027    1     -0.237597     0.221363       -0.699876  1.043759   \n",
       "836 -1.008848    1     -0.669935     0.193922        1.304332 -0.832432   \n",
       "781 -1.114921    1     -1.210356     0.111598        0.950648 -0.832432   \n",
       "328  0.582246    1     -0.399724    -1.818435       -0.699876  0.011854   \n",
       "\n",
       "     chest pain type_2  chest pain type_3  chest pain type_4  \\\n",
       "274                  0                  1                  0   \n",
       "681                  0                  0                  0   \n",
       "350                  0                  0                  1   \n",
       "792                  0                  0                  1   \n",
       "348                  0                  0                  1   \n",
       "..                 ...                ...                ...   \n",
       "531                  0                  0                  1   \n",
       "571                  0                  0                  1   \n",
       "836                  1                  0                  0   \n",
       "781                  0                  0                  1   \n",
       "328                  0                  0                  1   \n",
       "\n",
       "     fasting blood sugar_1  resting ecg_1  resting ecg_2  exercise angina_1  \\\n",
       "274                      0              0              1                  0   \n",
       "681                      1              0              1                  0   \n",
       "350                      1              0              0                  1   \n",
       "792                      1              0              0                  0   \n",
       "348                      1              0              0                  0   \n",
       "..                     ...            ...            ...                ...   \n",
       "531                      0              0              0                  1   \n",
       "571                      0              1              0                  1   \n",
       "836                      0              0              0                  0   \n",
       "781                      0              0              0                  0   \n",
       "328                      1              0              0                  1   \n",
       "\n",
       "     ST slope_1  ST slope_2  ST slope_3  \n",
       "274           1           0           0  \n",
       "681           0           0           1  \n",
       "350           0           1           0  \n",
       "792           0           1           0  \n",
       "348           0           1           0  \n",
       "..          ...         ...         ...  \n",
       "531           0           1           0  \n",
       "571           0           0           1  \n",
       "836           1           0           0  \n",
       "781           1           0           0  \n",
       "328           1           0           0  \n",
       "\n",
       "[184 rows x 16 columns]"
      ]
     },
     "execution_count": 556,
     "metadata": {},
     "output_type": "execute_result"
    }
   ],
   "source": [
    "X_test\n"
   ]
  },
  {
   "cell_type": "code",
   "execution_count": 557,
   "id": "9f25ce42",
   "metadata": {},
   "outputs": [
    {
     "data": {
      "text/plain": [
       "274    0\n",
       "681    0\n",
       "350    1\n",
       "792    1\n",
       "348    1\n",
       "      ..\n",
       "531    1\n",
       "571    1\n",
       "836    0\n",
       "781    0\n",
       "328    1\n",
       "Name: target, Length: 184, dtype: int64"
      ]
     },
     "execution_count": 557,
     "metadata": {},
     "output_type": "execute_result"
    }
   ],
   "source": [
    "y_test"
   ]
  },
  {
   "cell_type": "code",
   "execution_count": 558,
   "id": "7b9118ff",
   "metadata": {},
   "outputs": [
    {
     "data": {
      "text/html": [
       "<div>\n",
       "<style scoped>\n",
       "    .dataframe tbody tr th:only-of-type {\n",
       "        vertical-align: middle;\n",
       "    }\n",
       "\n",
       "    .dataframe tbody tr th {\n",
       "        vertical-align: top;\n",
       "    }\n",
       "\n",
       "    .dataframe thead th {\n",
       "        text-align: right;\n",
       "    }\n",
       "</style>\n",
       "<table border=\"1\" class=\"dataframe\">\n",
       "  <thead>\n",
       "    <tr style=\"text-align: right;\">\n",
       "      <th></th>\n",
       "      <th>age</th>\n",
       "      <th>sex</th>\n",
       "      <th>resting bp s</th>\n",
       "      <th>cholesterol</th>\n",
       "      <th>max heart rate</th>\n",
       "      <th>oldpeak</th>\n",
       "      <th>chest pain type_2</th>\n",
       "      <th>chest pain type_3</th>\n",
       "      <th>chest pain type_4</th>\n",
       "      <th>fasting blood sugar_1</th>\n",
       "      <th>resting ecg_1</th>\n",
       "      <th>resting ecg_2</th>\n",
       "      <th>exercise angina_1</th>\n",
       "      <th>ST slope_1</th>\n",
       "      <th>ST slope_2</th>\n",
       "      <th>ST slope_3</th>\n",
       "    </tr>\n",
       "  </thead>\n",
       "  <tbody>\n",
       "    <tr>\n",
       "      <th>316</th>\n",
       "      <td>2.173339</td>\n",
       "      <td>1</td>\n",
       "      <td>0.681120</td>\n",
       "      <td>-1.818435</td>\n",
       "      <td>-0.542683</td>\n",
       "      <td>0.387092</td>\n",
       "      <td>1</td>\n",
       "      <td>0</td>\n",
       "      <td>0</td>\n",
       "      <td>1</td>\n",
       "      <td>1</td>\n",
       "      <td>0</td>\n",
       "      <td>0</td>\n",
       "      <td>1</td>\n",
       "      <td>0</td>\n",
       "      <td>0</td>\n",
       "    </tr>\n",
       "    <tr>\n",
       "      <th>598</th>\n",
       "      <td>0.157954</td>\n",
       "      <td>1</td>\n",
       "      <td>0.032614</td>\n",
       "      <td>-0.126226</td>\n",
       "      <td>-0.031807</td>\n",
       "      <td>-0.644813</td>\n",
       "      <td>0</td>\n",
       "      <td>1</td>\n",
       "      <td>0</td>\n",
       "      <td>0</td>\n",
       "      <td>1</td>\n",
       "      <td>0</td>\n",
       "      <td>0</td>\n",
       "      <td>1</td>\n",
       "      <td>0</td>\n",
       "      <td>0</td>\n",
       "    </tr>\n",
       "    <tr>\n",
       "      <th>277</th>\n",
       "      <td>-0.266338</td>\n",
       "      <td>1</td>\n",
       "      <td>0.140698</td>\n",
       "      <td>-0.354903</td>\n",
       "      <td>0.518368</td>\n",
       "      <td>1.043759</td>\n",
       "      <td>0</td>\n",
       "      <td>1</td>\n",
       "      <td>0</td>\n",
       "      <td>0</td>\n",
       "      <td>0</td>\n",
       "      <td>0</td>\n",
       "      <td>0</td>\n",
       "      <td>0</td>\n",
       "      <td>1</td>\n",
       "      <td>0</td>\n",
       "    </tr>\n",
       "    <tr>\n",
       "      <th>35</th>\n",
       "      <td>-2.281723</td>\n",
       "      <td>1</td>\n",
       "      <td>-0.399724</td>\n",
       "      <td>0.504923</td>\n",
       "      <td>0.714859</td>\n",
       "      <td>-0.832432</td>\n",
       "      <td>1</td>\n",
       "      <td>0</td>\n",
       "      <td>0</td>\n",
       "      <td>0</td>\n",
       "      <td>0</td>\n",
       "      <td>0</td>\n",
       "      <td>0</td>\n",
       "      <td>1</td>\n",
       "      <td>0</td>\n",
       "      <td>0</td>\n",
       "    </tr>\n",
       "    <tr>\n",
       "      <th>268</th>\n",
       "      <td>-2.069577</td>\n",
       "      <td>1</td>\n",
       "      <td>-1.858862</td>\n",
       "      <td>0.193922</td>\n",
       "      <td>0.518368</td>\n",
       "      <td>-0.832432</td>\n",
       "      <td>1</td>\n",
       "      <td>0</td>\n",
       "      <td>0</td>\n",
       "      <td>0</td>\n",
       "      <td>0</td>\n",
       "      <td>0</td>\n",
       "      <td>0</td>\n",
       "      <td>1</td>\n",
       "      <td>0</td>\n",
       "      <td>0</td>\n",
       "    </tr>\n",
       "    <tr>\n",
       "      <th>...</th>\n",
       "      <td>...</td>\n",
       "      <td>...</td>\n",
       "      <td>...</td>\n",
       "      <td>...</td>\n",
       "      <td>...</td>\n",
       "      <td>...</td>\n",
       "      <td>...</td>\n",
       "      <td>...</td>\n",
       "      <td>...</td>\n",
       "      <td>...</td>\n",
       "      <td>...</td>\n",
       "      <td>...</td>\n",
       "      <td>...</td>\n",
       "      <td>...</td>\n",
       "      <td>...</td>\n",
       "      <td>...</td>\n",
       "    </tr>\n",
       "    <tr>\n",
       "      <th>317</th>\n",
       "      <td>0.370100</td>\n",
       "      <td>1</td>\n",
       "      <td>-1.480567</td>\n",
       "      <td>-1.818435</td>\n",
       "      <td>0.439772</td>\n",
       "      <td>-0.551004</td>\n",
       "      <td>0</td>\n",
       "      <td>1</td>\n",
       "      <td>0</td>\n",
       "      <td>1</td>\n",
       "      <td>0</td>\n",
       "      <td>0</td>\n",
       "      <td>0</td>\n",
       "      <td>0</td>\n",
       "      <td>1</td>\n",
       "      <td>0</td>\n",
       "    </tr>\n",
       "    <tr>\n",
       "      <th>468</th>\n",
       "      <td>1.006537</td>\n",
       "      <td>0</td>\n",
       "      <td>-0.021428</td>\n",
       "      <td>-1.818435</td>\n",
       "      <td>-0.267596</td>\n",
       "      <td>-0.738623</td>\n",
       "      <td>1</td>\n",
       "      <td>0</td>\n",
       "      <td>0</td>\n",
       "      <td>0</td>\n",
       "      <td>0</td>\n",
       "      <td>0</td>\n",
       "      <td>0</td>\n",
       "      <td>1</td>\n",
       "      <td>0</td>\n",
       "      <td>0</td>\n",
       "    </tr>\n",
       "    <tr>\n",
       "      <th>53</th>\n",
       "      <td>-1.327067</td>\n",
       "      <td>0</td>\n",
       "      <td>-0.129513</td>\n",
       "      <td>0.422599</td>\n",
       "      <td>0.518368</td>\n",
       "      <td>-0.832432</td>\n",
       "      <td>1</td>\n",
       "      <td>0</td>\n",
       "      <td>0</td>\n",
       "      <td>0</td>\n",
       "      <td>0</td>\n",
       "      <td>0</td>\n",
       "      <td>0</td>\n",
       "      <td>1</td>\n",
       "      <td>0</td>\n",
       "      <td>0</td>\n",
       "    </tr>\n",
       "    <tr>\n",
       "      <th>845</th>\n",
       "      <td>0.476173</td>\n",
       "      <td>0</td>\n",
       "      <td>0.951331</td>\n",
       "      <td>0.770188</td>\n",
       "      <td>0.989946</td>\n",
       "      <td>0.105664</td>\n",
       "      <td>0</td>\n",
       "      <td>0</td>\n",
       "      <td>0</td>\n",
       "      <td>1</td>\n",
       "      <td>0</td>\n",
       "      <td>1</td>\n",
       "      <td>0</td>\n",
       "      <td>1</td>\n",
       "      <td>0</td>\n",
       "      <td>0</td>\n",
       "    </tr>\n",
       "    <tr>\n",
       "      <th>418</th>\n",
       "      <td>-1.008848</td>\n",
       "      <td>1</td>\n",
       "      <td>-0.129513</td>\n",
       "      <td>0.093304</td>\n",
       "      <td>-0.385490</td>\n",
       "      <td>-0.832432</td>\n",
       "      <td>0</td>\n",
       "      <td>0</td>\n",
       "      <td>1</td>\n",
       "      <td>0</td>\n",
       "      <td>1</td>\n",
       "      <td>0</td>\n",
       "      <td>0</td>\n",
       "      <td>1</td>\n",
       "      <td>0</td>\n",
       "      <td>0</td>\n",
       "    </tr>\n",
       "  </tbody>\n",
       "</table>\n",
       "<p>734 rows × 16 columns</p>\n",
       "</div>"
      ],
      "text/plain": [
       "          age  sex  resting bp s  cholesterol  max heart rate   oldpeak  \\\n",
       "316  2.173339    1      0.681120    -1.818435       -0.542683  0.387092   \n",
       "598  0.157954    1      0.032614    -0.126226       -0.031807 -0.644813   \n",
       "277 -0.266338    1      0.140698    -0.354903        0.518368  1.043759   \n",
       "35  -2.281723    1     -0.399724     0.504923        0.714859 -0.832432   \n",
       "268 -2.069577    1     -1.858862     0.193922        0.518368 -0.832432   \n",
       "..        ...  ...           ...          ...             ...       ...   \n",
       "317  0.370100    1     -1.480567    -1.818435        0.439772 -0.551004   \n",
       "468  1.006537    0     -0.021428    -1.818435       -0.267596 -0.738623   \n",
       "53  -1.327067    0     -0.129513     0.422599        0.518368 -0.832432   \n",
       "845  0.476173    0      0.951331     0.770188        0.989946  0.105664   \n",
       "418 -1.008848    1     -0.129513     0.093304       -0.385490 -0.832432   \n",
       "\n",
       "     chest pain type_2  chest pain type_3  chest pain type_4  \\\n",
       "316                  1                  0                  0   \n",
       "598                  0                  1                  0   \n",
       "277                  0                  1                  0   \n",
       "35                   1                  0                  0   \n",
       "268                  1                  0                  0   \n",
       "..                 ...                ...                ...   \n",
       "317                  0                  1                  0   \n",
       "468                  1                  0                  0   \n",
       "53                   1                  0                  0   \n",
       "845                  0                  0                  0   \n",
       "418                  0                  0                  1   \n",
       "\n",
       "     fasting blood sugar_1  resting ecg_1  resting ecg_2  exercise angina_1  \\\n",
       "316                      1              1              0                  0   \n",
       "598                      0              1              0                  0   \n",
       "277                      0              0              0                  0   \n",
       "35                       0              0              0                  0   \n",
       "268                      0              0              0                  0   \n",
       "..                     ...            ...            ...                ...   \n",
       "317                      1              0              0                  0   \n",
       "468                      0              0              0                  0   \n",
       "53                       0              0              0                  0   \n",
       "845                      1              0              1                  0   \n",
       "418                      0              1              0                  0   \n",
       "\n",
       "     ST slope_1  ST slope_2  ST slope_3  \n",
       "316           1           0           0  \n",
       "598           1           0           0  \n",
       "277           0           1           0  \n",
       "35            1           0           0  \n",
       "268           1           0           0  \n",
       "..          ...         ...         ...  \n",
       "317           0           1           0  \n",
       "468           1           0           0  \n",
       "53            1           0           0  \n",
       "845           1           0           0  \n",
       "418           1           0           0  \n",
       "\n",
       "[734 rows x 16 columns]"
      ]
     },
     "execution_count": 558,
     "metadata": {},
     "output_type": "execute_result"
    }
   ],
   "source": [
    "X_train"
   ]
  },
  {
   "cell_type": "code",
   "execution_count": 559,
   "id": "427738a1",
   "metadata": {},
   "outputs": [
    {
     "data": {
      "text/plain": [
       "316    1\n",
       "598    0\n",
       "277    1\n",
       "35     0\n",
       "268    0\n",
       "      ..\n",
       "317    1\n",
       "468    0\n",
       "53     0\n",
       "845    0\n",
       "418    0\n",
       "Name: target, Length: 734, dtype: int64"
      ]
     },
     "execution_count": 559,
     "metadata": {},
     "output_type": "execute_result"
    }
   ],
   "source": [
    "y_train"
   ]
  },
  {
   "cell_type": "code",
   "execution_count": 560,
   "id": "a8860007",
   "metadata": {},
   "outputs": [],
   "source": [
    "    ##logistic regression\n",
    "from sklearn.linear_model import LogisticRegression\n"
   ]
  },
  {
   "cell_type": "code",
   "execution_count": 561,
   "id": "ff358b59",
   "metadata": {},
   "outputs": [
    {
     "data": {
      "text/plain": [
       "LogisticRegression()"
      ]
     },
     "execution_count": 561,
     "metadata": {},
     "output_type": "execute_result"
    }
   ],
   "source": [
    "clf0 = LogisticRegression()\n",
    "clf0.fit(X_train,y_train)####test models accuracy on the training data set"
   ]
  },
  {
   "cell_type": "code",
   "execution_count": 562,
   "id": "18fb644d",
   "metadata": {},
   "outputs": [],
   "source": [
    "yhat = clf0.predict(X_test)\n"
   ]
  },
  {
   "cell_type": "code",
   "execution_count": 563,
   "id": "6323d465",
   "metadata": {},
   "outputs": [],
   "source": [
    "from sklearn.metrics import accuracy_score\n"
   ]
  },
  {
   "cell_type": "code",
   "execution_count": 564,
   "id": "c9b43d86",
   "metadata": {},
   "outputs": [
    {
     "data": {
      "text/plain": [
       "0.8586956521739131"
      ]
     },
     "execution_count": 564,
     "metadata": {},
     "output_type": "execute_result"
    }
   ],
   "source": [
    "accuracy_score(y_test,yhat)\n"
   ]
  },
  {
   "cell_type": "code",
   "execution_count": 565,
   "id": "087a6bd3",
   "metadata": {},
   "outputs": [],
   "source": [
    "AS_LR = accuracy_score(y_test,yhat)"
   ]
  },
  {
   "cell_type": "code",
   "execution_count": 566,
   "id": "5bbe5283",
   "metadata": {},
   "outputs": [],
   "source": [
    "###SVC\n",
    "from sklearn import svm"
   ]
  },
  {
   "cell_type": "code",
   "execution_count": 567,
   "id": "5c3e8cfc",
   "metadata": {},
   "outputs": [],
   "source": [
    "clf1 = svm.SVC()\n"
   ]
  },
  {
   "cell_type": "code",
   "execution_count": 568,
   "id": "377224f8",
   "metadata": {},
   "outputs": [
    {
     "data": {
      "text/plain": [
       "SVC()"
      ]
     },
     "execution_count": 568,
     "metadata": {},
     "output_type": "execute_result"
    }
   ],
   "source": [
    "clf1.fit(X_train,y_train)\n"
   ]
  },
  {
   "cell_type": "code",
   "execution_count": 569,
   "id": "5f621d8b",
   "metadata": {},
   "outputs": [],
   "source": [
    "yhat1 = clf1.predict(X_test)\n"
   ]
  },
  {
   "cell_type": "code",
   "execution_count": 570,
   "id": "b774581c",
   "metadata": {},
   "outputs": [
    {
     "data": {
      "text/plain": [
       "0.8369565217391305"
      ]
     },
     "execution_count": 570,
     "metadata": {},
     "output_type": "execute_result"
    }
   ],
   "source": [
    "accuracy_score(y_test,yhat1)\n"
   ]
  },
  {
   "cell_type": "code",
   "execution_count": 571,
   "id": "07da79ce",
   "metadata": {},
   "outputs": [],
   "source": [
    "AS_SVN = accuracy_score(y_test,yhat1)\n"
   ]
  },
  {
   "cell_type": "code",
   "execution_count": 572,
   "id": "19b068db",
   "metadata": {},
   "outputs": [],
   "source": [
    "##Decision tree\n",
    "from sklearn.tree import DecisionTreeClassifier\n"
   ]
  },
  {
   "cell_type": "code",
   "execution_count": 573,
   "id": "1c5bc9e2",
   "metadata": {},
   "outputs": [],
   "source": [
    "clf2 = DecisionTreeClassifier()\n"
   ]
  },
  {
   "cell_type": "code",
   "execution_count": 574,
   "id": "6cca92b5",
   "metadata": {},
   "outputs": [
    {
     "data": {
      "text/plain": [
       "DecisionTreeClassifier()"
      ]
     },
     "execution_count": 574,
     "metadata": {},
     "output_type": "execute_result"
    }
   ],
   "source": [
    "clf2.fit(X_train,y_train)\n"
   ]
  },
  {
   "cell_type": "code",
   "execution_count": 575,
   "id": "5a0f1008",
   "metadata": {},
   "outputs": [],
   "source": [
    "yhat2= clf2.predict(X_test)\n"
   ]
  },
  {
   "cell_type": "code",
   "execution_count": 576,
   "id": "18fa03a7",
   "metadata": {},
   "outputs": [
    {
     "data": {
      "text/plain": [
       "0.7934782608695652"
      ]
     },
     "execution_count": 576,
     "metadata": {},
     "output_type": "execute_result"
    }
   ],
   "source": [
    "accuracy_score(y_test,yhat2)\n"
   ]
  },
  {
   "cell_type": "code",
   "execution_count": 577,
   "id": "45786aaf",
   "metadata": {},
   "outputs": [],
   "source": [
    "AS_DT = accuracy_score(y_test,yhat2)\n"
   ]
  },
  {
   "cell_type": "code",
   "execution_count": 578,
   "id": "6ead1b55",
   "metadata": {},
   "outputs": [],
   "source": [
    "####random forest\n",
    "from sklearn.ensemble import RandomForestClassifier\n"
   ]
  },
  {
   "cell_type": "code",
   "execution_count": 579,
   "id": "3ed4dd3b",
   "metadata": {},
   "outputs": [],
   "source": [
    "clf3 = RandomForestClassifier()\n"
   ]
  },
  {
   "cell_type": "code",
   "execution_count": 580,
   "id": "611d13df",
   "metadata": {},
   "outputs": [
    {
     "data": {
      "text/plain": [
       "RandomForestClassifier()"
      ]
     },
     "execution_count": 580,
     "metadata": {},
     "output_type": "execute_result"
    }
   ],
   "source": [
    "clf3.fit(X_train,y_train)\n"
   ]
  },
  {
   "cell_type": "code",
   "execution_count": 581,
   "id": "fb1310bf",
   "metadata": {},
   "outputs": [],
   "source": [
    "yhat3= clf3.predict(X_test)\n"
   ]
  },
  {
   "cell_type": "code",
   "execution_count": 582,
   "id": "673a1bc6",
   "metadata": {},
   "outputs": [
    {
     "data": {
      "text/plain": [
       "0.8532608695652174"
      ]
     },
     "execution_count": 582,
     "metadata": {},
     "output_type": "execute_result"
    }
   ],
   "source": [
    "accuracy_score(y_test,yhat3)\n"
   ]
  },
  {
   "cell_type": "code",
   "execution_count": 583,
   "id": "b9823cb4",
   "metadata": {},
   "outputs": [],
   "source": [
    "AS_RF = accuracy_score(y_test,yhat3)\n"
   ]
  },
  {
   "cell_type": "code",
   "execution_count": 584,
   "id": "72b87bf2",
   "metadata": {},
   "outputs": [],
   "source": [
    "###Kneighbour classifier\n",
    "from sklearn.neighbors import KNeighborsClassifier"
   ]
  },
  {
   "cell_type": "code",
   "execution_count": 585,
   "id": "092dc2e7",
   "metadata": {},
   "outputs": [],
   "source": [
    "clf4 = KNeighborsClassifier()"
   ]
  },
  {
   "cell_type": "code",
   "execution_count": 586,
   "id": "e19fb4ee",
   "metadata": {},
   "outputs": [
    {
     "data": {
      "text/plain": [
       "KNeighborsClassifier()"
      ]
     },
     "execution_count": 586,
     "metadata": {},
     "output_type": "execute_result"
    }
   ],
   "source": [
    "clf4.fit(X_train,y_train)\n"
   ]
  },
  {
   "cell_type": "code",
   "execution_count": 587,
   "id": "ffff6461",
   "metadata": {},
   "outputs": [],
   "source": [
    "yhat4=clf4.predict(X_test)\n"
   ]
  },
  {
   "cell_type": "code",
   "execution_count": 588,
   "id": "b2ca556c",
   "metadata": {},
   "outputs": [
    {
     "data": {
      "text/plain": [
       "0.8586956521739131"
      ]
     },
     "execution_count": 588,
     "metadata": {},
     "output_type": "execute_result"
    }
   ],
   "source": [
    "accuracy_score(y_test,yhat4)\n"
   ]
  },
  {
   "cell_type": "code",
   "execution_count": 589,
   "id": "d90efc8c",
   "metadata": {},
   "outputs": [],
   "source": [
    "AS_KNN = accuracy_score(y_test,yhat4)"
   ]
  },
  {
   "cell_type": "code",
   "execution_count": 590,
   "id": "3a694d43",
   "metadata": {},
   "outputs": [
    {
     "data": {
      "text/html": [
       "<div>\n",
       "<style scoped>\n",
       "    .dataframe tbody tr th:only-of-type {\n",
       "        vertical-align: middle;\n",
       "    }\n",
       "\n",
       "    .dataframe tbody tr th {\n",
       "        vertical-align: top;\n",
       "    }\n",
       "\n",
       "    .dataframe thead th {\n",
       "        text-align: right;\n",
       "    }\n",
       "</style>\n",
       "<table border=\"1\" class=\"dataframe\">\n",
       "  <thead>\n",
       "    <tr style=\"text-align: right;\">\n",
       "      <th></th>\n",
       "      <th>models</th>\n",
       "      <th>accuracies</th>\n",
       "    </tr>\n",
       "  </thead>\n",
       "  <tbody>\n",
       "    <tr>\n",
       "      <th>0</th>\n",
       "      <td>LF</td>\n",
       "      <td>0.858696</td>\n",
       "    </tr>\n",
       "    <tr>\n",
       "      <th>1</th>\n",
       "      <td>SVN</td>\n",
       "      <td>0.836957</td>\n",
       "    </tr>\n",
       "    <tr>\n",
       "      <th>2</th>\n",
       "      <td>DT</td>\n",
       "      <td>0.793478</td>\n",
       "    </tr>\n",
       "    <tr>\n",
       "      <th>3</th>\n",
       "      <td>RF</td>\n",
       "      <td>0.853261</td>\n",
       "    </tr>\n",
       "    <tr>\n",
       "      <th>4</th>\n",
       "      <td>KNN</td>\n",
       "      <td>0.858696</td>\n",
       "    </tr>\n",
       "  </tbody>\n",
       "</table>\n",
       "</div>"
      ],
      "text/plain": [
       "  models  accuracies\n",
       "0     LF    0.858696\n",
       "1    SVN    0.836957\n",
       "2     DT    0.793478\n",
       "3     RF    0.853261\n",
       "4    KNN    0.858696"
      ]
     },
     "execution_count": 590,
     "metadata": {},
     "output_type": "execute_result"
    }
   ],
   "source": [
    "####https://www.geeksforgeeks.org/create-a-pandas-dataframe-from-lists/\n",
    "#####https://stackoverflow.com/questions/14860460/append-several-variables-to-a-list-in-python\n",
    "\n",
    "name = ['LF','SVN', 'DT', 'RF', 'KNN']\n",
    "acc = []\n",
    "acc.append(AS_LR)\n",
    "acc.append(AS_SVN)\n",
    "acc.append(AS_DT)\n",
    "acc.append(AS_RF)\n",
    "acc.append(AS_KNN)\n",
    "\n",
    "dict = {'models': name, 'accuracies': acc} \n",
    "    \n",
    "df = pd.DataFrame(dict)\n",
    "    \n",
    "df "
   ]
  },
  {
   "cell_type": "code",
   "execution_count": 591,
   "id": "1d4dec74",
   "metadata": {},
   "outputs": [],
   "source": [
    "\n",
    "###Visualisation\n",
    "from matplotlib import pyplot as plt\n",
    "import numpy as np"
   ]
  },
  {
   "cell_type": "code",
   "execution_count": 592,
   "id": "962e32ec",
   "metadata": {},
   "outputs": [
    {
     "data": {
      "image/png": "[encoded data removed]",
      "text/plain": [
       "<Figure size 432x288 with 1 Axes>"
      ]
     },
     "metadata": {
      "needs_background": "light"
     },
     "output_type": "display_data"
    }
   ],
   "source": [
    "####https://pythonguides.com/matplotlib-set-y-axis-range/\n",
    "plt.bar(name, acc)\n",
    "\n",
    "plt.setp(plt.gca(), ylim=(0.80, 0.90))\n",
    "\n",
    "plt.show()"
   ]
  },
  {
   "cell_type": "code",
   "execution_count": 593,
   "id": "b27800e9",
   "metadata": {},
   "outputs": [
    {
     "data": {
      "text/html": [
       "<div>\n",
       "<style scoped>\n",
       "    .dataframe tbody tr th:only-of-type {\n",
       "        vertical-align: middle;\n",
       "    }\n",
       "\n",
       "    .dataframe tbody tr th {\n",
       "        vertical-align: top;\n",
       "    }\n",
       "\n",
       "    .dataframe thead th {\n",
       "        text-align: right;\n",
       "    }\n",
       "</style>\n",
       "<table border=\"1\" class=\"dataframe\">\n",
       "  <thead>\n",
       "    <tr style=\"text-align: right;\">\n",
       "      <th></th>\n",
       "      <th>age</th>\n",
       "      <th>sex</th>\n",
       "      <th>resting bp s</th>\n",
       "      <th>cholesterol</th>\n",
       "      <th>max heart rate</th>\n",
       "      <th>oldpeak</th>\n",
       "      <th>target</th>\n",
       "      <th>chest pain type_2</th>\n",
       "      <th>chest pain type_3</th>\n",
       "      <th>chest pain type_4</th>\n",
       "      <th>fasting blood sugar_1</th>\n",
       "      <th>resting ecg_1</th>\n",
       "      <th>resting ecg_2</th>\n",
       "      <th>exercise angina_1</th>\n",
       "      <th>ST slope_1</th>\n",
       "      <th>ST slope_2</th>\n",
       "      <th>ST slope_3</th>\n",
       "    </tr>\n",
       "  </thead>\n",
       "  <tbody>\n",
       "    <tr>\n",
       "      <th>0</th>\n",
       "      <td>-1.433140</td>\n",
       "      <td>1</td>\n",
       "      <td>0.410909</td>\n",
       "      <td>0.825070</td>\n",
       "      <td>1.382928</td>\n",
       "      <td>-0.832432</td>\n",
       "      <td>0</td>\n",
       "      <td>1</td>\n",
       "      <td>0</td>\n",
       "      <td>0</td>\n",
       "      <td>0</td>\n",
       "      <td>0</td>\n",
       "      <td>0</td>\n",
       "      <td>0</td>\n",
       "      <td>1</td>\n",
       "      <td>0</td>\n",
       "      <td>0</td>\n",
       "    </tr>\n",
       "    <tr>\n",
       "      <th>1</th>\n",
       "      <td>-0.478484</td>\n",
       "      <td>0</td>\n",
       "      <td>1.491752</td>\n",
       "      <td>-0.171961</td>\n",
       "      <td>0.754157</td>\n",
       "      <td>0.105664</td>\n",
       "      <td>1</td>\n",
       "      <td>0</td>\n",
       "      <td>1</td>\n",
       "      <td>0</td>\n",
       "      <td>0</td>\n",
       "      <td>0</td>\n",
       "      <td>0</td>\n",
       "      <td>0</td>\n",
       "      <td>0</td>\n",
       "      <td>1</td>\n",
       "      <td>0</td>\n",
       "    </tr>\n",
       "    <tr>\n",
       "      <th>2</th>\n",
       "      <td>-1.751359</td>\n",
       "      <td>1</td>\n",
       "      <td>-0.129513</td>\n",
       "      <td>0.770188</td>\n",
       "      <td>-1.525138</td>\n",
       "      <td>-0.832432</td>\n",
       "      <td>0</td>\n",
       "      <td>1</td>\n",
       "      <td>0</td>\n",
       "      <td>0</td>\n",
       "      <td>0</td>\n",
       "      <td>1</td>\n",
       "      <td>0</td>\n",
       "      <td>0</td>\n",
       "      <td>1</td>\n",
       "      <td>0</td>\n",
       "      <td>0</td>\n",
       "    </tr>\n",
       "    <tr>\n",
       "      <th>3</th>\n",
       "      <td>-0.584556</td>\n",
       "      <td>0</td>\n",
       "      <td>0.302825</td>\n",
       "      <td>0.139040</td>\n",
       "      <td>-1.132156</td>\n",
       "      <td>0.574711</td>\n",
       "      <td>1</td>\n",
       "      <td>0</td>\n",
       "      <td>0</td>\n",
       "      <td>1</td>\n",
       "      <td>0</td>\n",
       "      <td>0</td>\n",
       "      <td>0</td>\n",
       "      <td>1</td>\n",
       "      <td>0</td>\n",
       "      <td>1</td>\n",
       "      <td>0</td>\n",
       "    </tr>\n",
       "    <tr>\n",
       "      <th>4</th>\n",
       "      <td>0.051881</td>\n",
       "      <td>1</td>\n",
       "      <td>0.951331</td>\n",
       "      <td>-0.034755</td>\n",
       "      <td>-0.581981</td>\n",
       "      <td>-0.832432</td>\n",
       "      <td>0</td>\n",
       "      <td>0</td>\n",
       "      <td>1</td>\n",
       "      <td>0</td>\n",
       "      <td>0</td>\n",
       "      <td>0</td>\n",
       "      <td>0</td>\n",
       "      <td>0</td>\n",
       "      <td>1</td>\n",
       "      <td>0</td>\n",
       "      <td>0</td>\n",
       "    </tr>\n",
       "  </tbody>\n",
       "</table>\n",
       "</div>"
      ],
      "text/plain": [
       "        age  sex  resting bp s  cholesterol  max heart rate   oldpeak  target  \\\n",
       "0 -1.433140    1      0.410909     0.825070        1.382928 -0.832432       0   \n",
       "1 -0.478484    0      1.491752    -0.171961        0.754157  0.105664       1   \n",
       "2 -1.751359    1     -0.129513     0.770188       -1.525138 -0.832432       0   \n",
       "3 -0.584556    0      0.302825     0.139040       -1.132156  0.574711       1   \n",
       "4  0.051881    1      0.951331    -0.034755       -0.581981 -0.832432       0   \n",
       "\n",
       "   chest pain type_2  chest pain type_3  chest pain type_4  \\\n",
       "0                  1                  0                  0   \n",
       "1                  0                  1                  0   \n",
       "2                  1                  0                  0   \n",
       "3                  0                  0                  1   \n",
       "4                  0                  1                  0   \n",
       "\n",
       "   fasting blood sugar_1  resting ecg_1  resting ecg_2  exercise angina_1  \\\n",
       "0                      0              0              0                  0   \n",
       "1                      0              0              0                  0   \n",
       "2                      0              1              0                  0   \n",
       "3                      0              0              0                  1   \n",
       "4                      0              0              0                  0   \n",
       "\n",
       "   ST slope_1  ST slope_2  ST slope_3  \n",
       "0           1           0           0  \n",
       "1           0           1           0  \n",
       "2           1           0           0  \n",
       "3           0           1           0  \n",
       "4           1           0           0  "
      ]
     },
     "execution_count": 593,
     "metadata": {},
     "output_type": "execute_result"
    }
   ],
   "source": [
    "hds.head()##there are 16 variables(columns)"
   ]
  },
  {
   "cell_type": "code",
   "execution_count": 594,
   "id": "c08a6395",
   "metadata": {},
   "outputs": [],
   "source": [
    "###https://www.youtube.com/watch?v=c4mS7KaOIGY\n",
    "###divide the data set into X and y:\n",
    "y=hds['target']###has dependednt varaible\n",
    "\n",
    "####rest of the variables are loaded in the X variable\n",
    "###the target variable(independent variable) is loaded into the target variable\n",
    "\n",
    "X=hds.drop('target',axis=1)\n"
   ]
  },
  {
   "cell_type": "code",
   "execution_count": 595,
   "id": "632667c2",
   "metadata": {},
   "outputs": [
    {
     "data": {
      "text/plain": [
       "(918, 16)"
      ]
     },
     "execution_count": 595,
     "metadata": {},
     "output_type": "execute_result"
    }
   ],
   "source": [
    "X.shape"
   ]
  },
  {
   "cell_type": "code",
   "execution_count": 596,
   "id": "05d26992",
   "metadata": {},
   "outputs": [
    {
     "name": "stdout",
     "output_type": "stream",
     "text": [
      "<class 'pandas.core.frame.DataFrame'>\n",
      "Int64Index: 918 entries, 0 to 1189\n",
      "Data columns (total 16 columns):\n",
      " #   Column                 Non-Null Count  Dtype  \n",
      "---  ------                 --------------  -----  \n",
      " 0   age                    918 non-null    float64\n",
      " 1   sex                    918 non-null    int64  \n",
      " 2   resting bp s           918 non-null    float64\n",
      " 3   cholesterol            918 non-null    float64\n",
      " 4   max heart rate         918 non-null    float64\n",
      " 5   oldpeak                918 non-null    float64\n",
      " 6   chest pain type_2      918 non-null    uint8  \n",
      " 7   chest pain type_3      918 non-null    uint8  \n",
      " 8   chest pain type_4      918 non-null    uint8  \n",
      " 9   fasting blood sugar_1  918 non-null    uint8  \n",
      " 10  resting ecg_1          918 non-null    uint8  \n",
      " 11  resting ecg_2          918 non-null    uint8  \n",
      " 12  exercise angina_1      918 non-null    uint8  \n",
      " 13  ST slope_1             918 non-null    uint8  \n",
      " 14  ST slope_2             918 non-null    uint8  \n",
      " 15  ST slope_3             918 non-null    uint8  \n",
      "dtypes: float64(5), int64(1), uint8(10)\n",
      "memory usage: 59.2 KB\n"
     ]
    }
   ],
   "source": [
    "X.info()"
   ]
  },
  {
   "cell_type": "code",
   "execution_count": 597,
   "id": "6b1c4e75",
   "metadata": {},
   "outputs": [],
   "source": [
    "from sklearn.neighbors import KNeighborsClassifier"
   ]
  },
  {
   "cell_type": "code",
   "execution_count": 598,
   "id": "4eefd866",
   "metadata": {},
   "outputs": [
    {
     "data": {
      "text/plain": [
       "KNeighborsClassifier()"
      ]
     },
     "execution_count": 598,
     "metadata": {},
     "output_type": "execute_result"
    }
   ],
   "source": [
    "Knn_clf = KNeighborsClassifier()\n",
    "Knn_clf.fit(X,y)"
   ]
  },
  {
   "cell_type": "code",
   "execution_count": 599,
   "id": "165e0ab5",
   "metadata": {},
   "outputs": [],
   "source": [
    "###Prediction by the model in the below given data\n",
    "import pandas as pd\n"
   ]
  },
  {
   "cell_type": "code",
   "execution_count": 600,
   "id": "0dbd1387",
   "metadata": {},
   "outputs": [],
   "source": [
    "recent = pd.DataFrame({\n",
    "    'age':52,\n",
    "    'sex':1,\n",
    "    'chest pain type_2':0,\n",
    "    'chest pain type_3':1,\n",
    "    'chest pain type_4':0,\n",
    "    'resting bp s':125,\n",
    "    'cholesterol':212,\n",
    "    'fasting blood sugar_1':0,\n",
    "    'resting ecg_1':1,\n",
    "    'resting ecg_2':1,\n",
    "    'max heart rate':157,\n",
    "    'exercise angina_1 ':0,\n",
    "    'oldpeak':1.0,\n",
    "     'ST slope_1':1,\n",
    "    'ST slope_2':0,\n",
    "    'ST slope_3':1,\n",
    "  },index=[0])"
   ]
  },
  {
   "cell_type": "code",
   "execution_count": 601,
   "id": "e43633ca",
   "metadata": {},
   "outputs": [
    {
     "data": {
      "text/html": [
       "<div>\n",
       "<style scoped>\n",
       "    .dataframe tbody tr th:only-of-type {\n",
       "        vertical-align: middle;\n",
       "    }\n",
       "\n",
       "    .dataframe tbody tr th {\n",
       "        vertical-align: top;\n",
       "    }\n",
       "\n",
       "    .dataframe thead th {\n",
       "        text-align: right;\n",
       "    }\n",
       "</style>\n",
       "<table border=\"1\" class=\"dataframe\">\n",
       "  <thead>\n",
       "    <tr style=\"text-align: right;\">\n",
       "      <th></th>\n",
       "      <th>age</th>\n",
       "      <th>sex</th>\n",
       "      <th>chest pain type_2</th>\n",
       "      <th>chest pain type_3</th>\n",
       "      <th>chest pain type_4</th>\n",
       "      <th>resting bp s</th>\n",
       "      <th>cholesterol</th>\n",
       "      <th>fasting blood sugar_1</th>\n",
       "      <th>resting ecg_1</th>\n",
       "      <th>resting ecg_2</th>\n",
       "      <th>max heart rate</th>\n",
       "      <th>exercise angina_1</th>\n",
       "      <th>oldpeak</th>\n",
       "      <th>ST slope_1</th>\n",
       "      <th>ST slope_2</th>\n",
       "      <th>ST slope_3</th>\n",
       "    </tr>\n",
       "  </thead>\n",
       "  <tbody>\n",
       "    <tr>\n",
       "      <th>0</th>\n",
       "      <td>52</td>\n",
       "      <td>1</td>\n",
       "      <td>0</td>\n",
       "      <td>1</td>\n",
       "      <td>0</td>\n",
       "      <td>125</td>\n",
       "      <td>212</td>\n",
       "      <td>0</td>\n",
       "      <td>1</td>\n",
       "      <td>1</td>\n",
       "      <td>157</td>\n",
       "      <td>0</td>\n",
       "      <td>1.0</td>\n",
       "      <td>1</td>\n",
       "      <td>0</td>\n",
       "      <td>1</td>\n",
       "    </tr>\n",
       "  </tbody>\n",
       "</table>\n",
       "</div>"
      ],
      "text/plain": [
       "   age  sex  chest pain type_2  chest pain type_3  chest pain type_4  \\\n",
       "0   52    1                  0                  1                  0   \n",
       "\n",
       "   resting bp s  cholesterol  fasting blood sugar_1  resting ecg_1  \\\n",
       "0           125          212                      0              1   \n",
       "\n",
       "   resting ecg_2  max heart rate  exercise angina_1   oldpeak  ST slope_1  \\\n",
       "0              1             157                   0      1.0           1   \n",
       "\n",
       "   ST slope_2  ST slope_3  \n",
       "0           0           1  "
      ]
     },
     "execution_count": 601,
     "metadata": {},
     "output_type": "execute_result"
    }
   ],
   "source": [
    "recent"
   ]
  },
  {
   "cell_type": "code",
   "execution_count": 602,
   "id": "e7eb7b9a",
   "metadata": {},
   "outputs": [
    {
     "data": {
      "text/plain": [
       "array([1], dtype=int64)"
      ]
     },
     "execution_count": 602,
     "metadata": {},
     "output_type": "execute_result"
    }
   ],
   "source": [
    "t = Knn_clf.predict(recent)\n",
    "t"
   ]
  },
  {
   "cell_type": "code",
   "execution_count": 603,
   "id": "5b6294ee",
   "metadata": {},
   "outputs": [
    {
     "name": "stdout",
     "output_type": "stream",
     "text": [
      "THERE IS HEART ILLNESS.\n"
     ]
    }
   ],
   "source": [
    "t = Knn_clf.predict(recent)\n",
    "if t[0]==0:\n",
    "    print(\"THERE IS NO HEART ILLNESS.\")\n",
    "else:\n",
    "    print(\"THERE IS HEART ILLNESS.\")"
   ]
  },
  {
   "cell_type": "code",
   "execution_count": 604,
   "id": "d0a77dbc",
   "metadata": {},
   "outputs": [],
   "source": [
    "#####hyperparameter tuning#####"
   ]
  },
  {
   "cell_type": "code",
   "execution_count": 605,
   "id": "ba9cd5e0",
   "metadata": {},
   "outputs": [],
   "source": [
    "from sklearn.model_selection import train_test_split\n"
   ]
  },
  {
   "cell_type": "code",
   "execution_count": 606,
   "id": "ff38dcad",
   "metadata": {},
   "outputs": [],
   "source": [
    "###https://www.youtube.com/watch?v=c4mS7KaOIGY\n",
    "###divide the data set into X and y:\n",
    "y=hds['target']###has dependednt varaible\n",
    "\n",
    "####rest of the variables are loaded in the X variable\n",
    "###the target variable(independent variable) is loaded into the target variable\n",
    "\n",
    "X=hds.drop('target',axis=1)\n"
   ]
  },
  {
   "cell_type": "code",
   "execution_count": 607,
   "id": "04ca26ff",
   "metadata": {},
   "outputs": [],
   "source": [
    "X_train, X_test, y_train, y_test = train_test_split(X,y, test_size = 0.20, random_state = 100)"
   ]
  },
  {
   "cell_type": "code",
   "execution_count": 608,
   "id": "19eb5eff",
   "metadata": {},
   "outputs": [],
   "source": [
    "####testing the accuracy of the data on test data"
   ]
  },
  {
   "cell_type": "code",
   "execution_count": 609,
   "id": "a4e1ea4e",
   "metadata": {},
   "outputs": [],
   "source": [
    "from sklearn.neighbors import KNeighborsClassifier"
   ]
  },
  {
   "cell_type": "code",
   "execution_count": 610,
   "id": "81bfd70d",
   "metadata": {},
   "outputs": [
    {
     "data": {
      "text/plain": [
       "0.9021739130434783"
      ]
     },
     "execution_count": 610,
     "metadata": {},
     "output_type": "execute_result"
    }
   ],
   "source": [
    "#####https://www.youtube.com/watch?v=L3PC3FkqGUA\n",
    "####https://www.youtube.com/watch?v=c4mS7KaOIGY\n",
    "####https://scikit-learn.org/stable/modules/model_evaluation.html\n",
    "clf4.score(X_test, y_test)"
   ]
  },
  {
   "cell_type": "code",
   "execution_count": 611,
   "id": "46328763",
   "metadata": {},
   "outputs": [],
   "source": [
    "###https://scikit-learn.org/stable/modules/model_evaluation.html\n",
    "from sklearn.model_selection import GridSearchCV\n"
   ]
  },
  {
   "cell_type": "code",
   "execution_count": 612,
   "id": "e3487763",
   "metadata": {},
   "outputs": [],
   "source": [
    "import numpy as np"
   ]
  },
  {
   "cell_type": "code",
   "execution_count": 613,
   "id": "2c620a82",
   "metadata": {},
   "outputs": [],
   "source": [
    "####https://scikit-learn.org/stable/modules/generated/sklearn.neighbors.KNeighborsClassifier.html\n",
    "####default n_neighbors is 5\n",
    "####udemy ko pani herne\n",
    "grids = {'n_neighbors' : np.arange(1,25)}"
   ]
  },
  {
   "cell_type": "code",
   "execution_count": 614,
   "id": "a6796d01",
   "metadata": {},
   "outputs": [
    {
     "data": {
      "text/plain": [
       "{'n_neighbors': array([ 1,  2,  3,  4,  5,  6,  7,  8,  9, 10, 11, 12, 13, 14, 15, 16, 17,\n",
       "        18, 19, 20, 21, 22, 23, 24])}"
      ]
     },
     "execution_count": 614,
     "metadata": {},
     "output_type": "execute_result"
    }
   ],
   "source": [
    "grids"
   ]
  },
  {
   "cell_type": "code",
   "execution_count": 615,
   "id": "b8e1ec57",
   "metadata": {},
   "outputs": [],
   "source": [
    "Clf4_grids = KNeighborsClassifier()"
   ]
  },
  {
   "cell_type": "code",
   "execution_count": 616,
   "id": "4ea4f51e",
   "metadata": {},
   "outputs": [],
   "source": [
    "Clf4_search_parameter = GridSearchCV(Clf4_grids, grids, cv = 10)"
   ]
  },
  {
   "cell_type": "code",
   "execution_count": 617,
   "id": "4019cde4",
   "metadata": {},
   "outputs": [
    {
     "data": {
      "text/plain": [
       "GridSearchCV(cv=10, estimator=KNeighborsClassifier(),\n",
       "             param_grid={'n_neighbors': array([ 1,  2,  3,  4,  5,  6,  7,  8,  9, 10, 11, 12, 13, 14, 15, 16, 17,\n",
       "       18, 19, 20, 21, 22, 23, 24])})"
      ]
     },
     "execution_count": 617,
     "metadata": {},
     "output_type": "execute_result"
    }
   ],
   "source": [
    "Clf4_search_parameter"
   ]
  },
  {
   "cell_type": "code",
   "execution_count": 618,
   "id": "4c748398",
   "metadata": {},
   "outputs": [
    {
     "data": {
      "text/plain": [
       "GridSearchCV(cv=10, estimator=KNeighborsClassifier(),\n",
       "             param_grid={'n_neighbors': array([ 1,  2,  3,  4,  5,  6,  7,  8,  9, 10, 11, 12, 13, 14, 15, 16, 17,\n",
       "       18, 19, 20, 21, 22, 23, 24])})"
      ]
     },
     "execution_count": 618,
     "metadata": {},
     "output_type": "execute_result"
    }
   ],
   "source": [
    "Clf4_search_parameter.fit(X_train, y_train)"
   ]
  },
  {
   "cell_type": "code",
   "execution_count": 619,
   "id": "1c598995",
   "metadata": {},
   "outputs": [
    {
     "data": {
      "text/plain": [
       "0.8706034801925213"
      ]
     },
     "execution_count": 619,
     "metadata": {},
     "output_type": "execute_result"
    }
   ],
   "source": [
    "Clf4_search_parameter.best_score_"
   ]
  },
  {
   "cell_type": "code",
   "execution_count": 620,
   "id": "84a5e329",
   "metadata": {},
   "outputs": [
    {
     "data": {
      "text/plain": [
       "{'n_neighbors': 9}"
      ]
     },
     "execution_count": 620,
     "metadata": {},
     "output_type": "execute_result"
    }
   ],
   "source": [
    "Clf4_search_parameter.best_params_"
   ]
  },
  {
   "cell_type": "code",
   "execution_count": 621,
   "id": "25a6e038",
   "metadata": {},
   "outputs": [
    {
     "name": "stdout",
     "output_type": "stream",
     "text": [
      "Train Accuracy -  0.885558583106267\n",
      "Test Accuracy -  0.8695652173913043\n"
     ]
    }
   ],
   "source": [
    "###after hyperparameter tuning\n",
    "print('Train Accuracy - ', Clf4_search_parameter.score(X_train, y_train))\n",
    "print('Test Accuracy - ', Clf4_search_parameter.score(X_test, y_test))"
   ]
  },
  {
   "cell_type": "code",
   "execution_count": 622,
   "id": "dd1ef14e",
   "metadata": {
    "scrolled": true
   },
   "outputs": [
    {
     "name": "stdout",
     "output_type": "stream",
     "text": [
      "Train Accuracy -  0.8937329700272479\n",
      "Test Accuracy -  0.9021739130434783\n"
     ]
    }
   ],
   "source": [
    "###before hyperparameter tuning\n",
    "###the default score in a classifier is accuracy.\n",
    "print('Train Accuracy - ', clf4.score(X_train, y_train))\n",
    "print('Test Accuracy - ', clf4.score(X_test, y_test))"
   ]
  },
  {
   "cell_type": "code",
   "execution_count": 623,
   "id": "cb680313",
   "metadata": {},
   "outputs": [
    {
     "data": {
      "text/plain": [
       "array([1, 1, 0, 0, 1, 0, 0, 1, 1, 0, 0, 1, 1, 1, 1, 0, 1, 1, 1, 1, 0, 0,\n",
       "       0, 0, 0, 1, 0, 0, 0, 0, 1, 1, 0, 1, 1, 1, 1, 1, 0, 1, 1, 1, 1, 0,\n",
       "       1, 0, 0, 1, 0, 0, 1, 0, 1, 1, 1, 1, 0, 1, 1, 1, 1, 1, 0, 1, 1, 1,\n",
       "       1, 1, 0, 1, 0, 1, 1, 1, 0, 1, 0, 1, 0, 0, 0, 1, 1, 1, 1, 1, 0, 1,\n",
       "       0, 1, 0, 0, 1, 1, 0, 0, 1, 1, 0, 1, 0, 0, 1, 0, 0, 1, 1, 0, 0, 1,\n",
       "       1, 0, 0, 1, 1, 1, 1, 0, 1, 0, 0, 0, 1, 1, 1, 1, 1, 0, 0, 1, 1, 1,\n",
       "       0, 1, 0, 0, 0, 1, 1, 0, 1, 0, 0, 0, 0, 0, 1, 0, 1, 0, 1, 1, 1, 0,\n",
       "       0, 1, 0, 1, 1, 1, 0, 1, 0, 1, 0, 1, 1, 0, 1, 1, 1, 0, 1, 1, 0, 1,\n",
       "       1, 1, 1, 1, 0, 1, 0, 1], dtype=int64)"
      ]
     },
     "execution_count": 623,
     "metadata": {},
     "output_type": "execute_result"
    }
   ],
   "source": [
    "#####Making predictions with the tuned KNN model \n",
    "y_prediction = Clf4_search_parameter.predict(X_test)\n",
    "y_prediction"
   ]
  },
  {
   "cell_type": "code",
   "execution_count": 624,
   "id": "06fdac67",
   "metadata": {},
   "outputs": [
    {
     "data": {
      "text/plain": [
       "429    1\n",
       "425    1\n",
       "801    0\n",
       "174    0\n",
       "392    1\n",
       "      ..\n",
       "393    1\n",
       "10     0\n",
       "627    0\n",
       "742    0\n",
       "847    1\n",
       "Name: target, Length: 184, dtype: int64"
      ]
     },
     "execution_count": 624,
     "metadata": {},
     "output_type": "execute_result"
    }
   ],
   "source": [
    "y_test\n",
    "####Comparing the test datas:comparing the y_prediction and y_test the first 5 values(1,1,0,0,1)\n",
    "####are all matching but from the sixth the values differ "
   ]
  },
  {
   "cell_type": "code",
   "execution_count": 625,
   "id": "f606bcb0",
   "metadata": {},
   "outputs": [],
   "source": [
    "####Evaluating the tuned machine learning classifier\n",
    "####to get the evaluation metrics beyond accuracy we use  the \n",
    "'''\n",
    "Roc curve: compares TP rate to FP rate  \n",
    "confusion matrix\n",
    "'''\n",
    "\n",
    "from sklearn.metrics import plot_roc_curve"
   ]
  },
  {
   "cell_type": "code",
   "execution_count": 626,
   "id": "06690d59",
   "metadata": {},
   "outputs": [
    {
     "data": {
      "text/plain": [
       "<sklearn.metrics._plot.roc_curve.RocCurveDisplay at 0x2258c2f7280>"
      ]
     },
     "execution_count": 626,
     "metadata": {},
     "output_type": "execute_result"
    },
    {
     "data": {
      "image/png": "[encoded data removed]",
      "text/plain": [
       "<Figure size 432x288 with 1 Axes>"
      ]
     },
     "metadata": {
      "needs_background": "light"
     },
     "output_type": "display_data"
    }
   ],
   "source": [
    "plot_roc_curve(Clf4_search_parameter, X_test, y_test)"
   ]
  },
  {
   "cell_type": "code",
   "execution_count": 627,
   "id": "c2fbf8ce",
   "metadata": {},
   "outputs": [
    {
     "data": {
      "image/png": "[encoded data removed]",
      "text/plain": [
       "<Figure size 432x288 with 2 Axes>"
      ]
     },
     "metadata": {
      "needs_background": "light"
     },
     "output_type": "display_data"
    }
   ],
   "source": [
    "####confusion matrix\n",
    "####https://scikit-learn.org/stable/modules/generated/sklearn.metrics.confusion_matrix.html\n",
    "####https://scikit-learn.org/stable/auto_examples/miscellaneous/plot_display_object_visualization.html#sphx-glr-auto-examples-miscellaneous-plot-display-object-visualization-py\n",
    "####https://www.youtube.com/watch?v=QRFMgKdF-Ug\n",
    "from sklearn.metrics import confusion_matrix\n",
    "from sklearn.neighbors import KNeighborsClassifier\n",
    "from sklearn.metrics import plot_confusion_matrix\n",
    "\n",
    "X_train, X_test, y_train, y_test = train_test_split(X, y, random_state=0)\n",
    "classifier_KNN = KNeighborsClassifier()\n",
    "classifier_KNN.fit(X_train, y_train)\n",
    "\n",
    "conf_KNN = plot_confusion_matrix(Clf4_search_parameter,X_test, y_test, cmap='Greens') \n",
    "\n",
    "######an already fitted model is passed Clf4_search_parameter.\n",
    "######here Clf4_search_parameter.predict(X_test) is done and its gonna compare those predictions to y_test internally \n",
    "######this comparison is the basis of the confusion matrix"
   ]
  },
  {
   "cell_type": "code",
   "execution_count": 628,
   "id": "f937e62b",
   "metadata": {},
   "outputs": [
    {
     "data": {
      "text/plain": [
       "array([[ 71,  21],\n",
       "       [ 11, 127]], dtype=int64)"
      ]
     },
     "execution_count": 628,
     "metadata": {},
     "output_type": "execute_result"
    }
   ],
   "source": [
    "conf_KNN.confusion_matrix###this displays the confusion_matrix in normal form"
   ]
  },
  {
   "cell_type": "code",
   "execution_count": 629,
   "id": "b7e1428f",
   "metadata": {},
   "outputs": [],
   "source": [
    "####cross validation\n",
    "####https://www.youtube.com/watch?v=L_dQrZZjGDg\n",
    "####https://scikit-learn.org/stable/modules/cross_validation.html\n",
    "####https://www.youtube.com/watch?v=V0ZQbN9lRBw\n",
    "\n",
    "from sklearn.model_selection import cross_val_score\n",
    "from sklearn.neighbors import KNeighborsClassifier"
   ]
  },
  {
   "cell_type": "code",
   "execution_count": 630,
   "id": "75c5a833",
   "metadata": {},
   "outputs": [],
   "source": [
    "###https://www.youtube.com/watch?v=c4mS7KaOIGY\n",
    "###divide the data set into X and y:\n",
    "y=hds['target']###has dependednt varaible\n",
    "\n",
    "####rest of the variables are loaded in the X variable\n",
    "###the target variable(independent variable) is loaded into the target variable\n",
    "\n",
    "X=hds.drop('target',axis=1)\n"
   ]
  },
  {
   "cell_type": "code",
   "execution_count": 631,
   "id": "83bdf45c",
   "metadata": {},
   "outputs": [
    {
     "data": {
      "text/plain": [
       "KNeighborsClassifier()"
      ]
     },
     "execution_count": 631,
     "metadata": {},
     "output_type": "execute_result"
    }
   ],
   "source": [
    "X_train, X_test, y_train, y_test = train_test_split(X, y, random_state=0)\n",
    "classifier_Knn = KNeighborsClassifier(n_neighbors= 5 )\n",
    "classifier_Knn.fit(X_train, y_train)"
   ]
  },
  {
   "cell_type": "code",
   "execution_count": 632,
   "id": "184ab356",
   "metadata": {},
   "outputs": [],
   "source": [
    "#####https://www.youtube.com/watch?v=V0ZQbN9lRBw\n",
    "#####https://scikit-learn.org/stable/modules/generated/sklearn.metrics.accuracy_score.html#sklearn.metrics.accuracy_score\n",
    "neigh = range(1,3)\n",
    "knn_accuracy = []\n",
    "\n",
    "for i in neigh:\n",
    "    classifier_Knn = KNeighborsClassifier(n_neighbors= i )\n",
    "    cv_Knn = cross_val_score(Clf4_search_parameter,X_test, y_test, cv=10, scoring = 'accuracy') \n",
    "    knn_accuracy.append(cv_Knn.mean())\n",
    "    "
   ]
  },
  {
   "cell_type": "code",
   "execution_count": 633,
   "id": "eef1ce8d",
   "metadata": {},
   "outputs": [
    {
     "data": {
      "text/plain": [
       "[0.8391304347826087, 0.8391304347826087]"
      ]
     },
     "execution_count": 633,
     "metadata": {},
     "output_type": "execute_result"
    }
   ],
   "source": [
    "knn_accuracy"
   ]
  },
  {
   "cell_type": "code",
   "execution_count": 634,
   "id": "9584aba2",
   "metadata": {},
   "outputs": [],
   "source": [
    "#####https://scikit-learn.org/stable/modules/generated/sklearn.metrics.average_precision_score.html#sklearn.metrics.average_precision_score\n",
    "#####https://www.youtube.com/watch?v=V0ZQbN9lRBw\n",
    "#####https://github.com/mrdbourke/zero-to-mastery-ml/blob/master/section-3-structured-data-projects/end-to-end-heart-disease-classification-video.ipynb\n",
    "\n",
    "\n",
    "neigh = range(1,3)\n",
    "knn_precision = []\n",
    "\n",
    "for i in neigh:\n",
    "    classifier_Knn = KNeighborsClassifier(n_neighbors= i )\n",
    "    cv_Knn = cross_val_score(Clf4_search_parameter,X_test, y_test, cv=10, scoring = 'precision') \n",
    "    knn_precision.append(cv_Knn.mean())"
   ]
  },
  {
   "cell_type": "code",
   "execution_count": 635,
   "id": "62df290f",
   "metadata": {},
   "outputs": [
    {
     "data": {
      "text/plain": [
       "[0.8609111721611722, 0.8609111721611722]"
      ]
     },
     "execution_count": 635,
     "metadata": {},
     "output_type": "execute_result"
    }
   ],
   "source": [
    "knn_precision"
   ]
  },
  {
   "cell_type": "code",
   "execution_count": 636,
   "id": "58c127cc",
   "metadata": {},
   "outputs": [],
   "source": [
    "#####https://scikit-learn.org/stable/modules/generated/sklearn.metrics.recall_score.html#sklearn.metrics.recall_score\n",
    "#####https://www.youtube.com/watch?v=V0ZQbN9lRBw\n",
    "#####https://github.com/mrdbourke/zero-to-mastery-ml/blob/master/section-3-structured-data-projects/end-to-end-heart-disease-classification-video.ipynb\n",
    "\n",
    "\n",
    "neigh = range(1,3)\n",
    "knn_recall = []\n",
    "\n",
    "for i in neigh:\n",
    "    classifier_Knn = KNeighborsClassifier(n_neighbors= i )\n",
    "    cv_Knn = cross_val_score(Clf4_search_parameter,X_test, y_test, cv=10, scoring = 'recall') \n",
    "    knn_recall.append(cv_Knn.mean())"
   ]
  },
  {
   "cell_type": "code",
   "execution_count": 637,
   "id": "562f725c",
   "metadata": {},
   "outputs": [
    {
     "data": {
      "text/plain": [
       "[0.8774725274725274, 0.8774725274725274]"
      ]
     },
     "execution_count": 637,
     "metadata": {},
     "output_type": "execute_result"
    }
   ],
   "source": [
    "knn_recall"
   ]
  },
  {
   "cell_type": "code",
   "execution_count": 638,
   "id": "ad96960a",
   "metadata": {},
   "outputs": [],
   "source": [
    "####https://scikit-learn.org/stable/modules/generated/sklearn.metrics.f1_score.html#sklearn.metrics.f1_score\n",
    "#####https://www.youtube.com/watch?v=V0ZQbN9lRBw\n",
    "#####https://github.com/mrdbourke/zero-to-mastery-ml/blob/master/section-3-structured-data-projects/end-to-end-heart-disease-classification-video.ipynb\n",
    "\n",
    "neigh = range(1,3)\n",
    "knn_f1 = []\n",
    "\n",
    "for i in neigh:\n",
    "    classifier_Knn = KNeighborsClassifier(n_neighbors= i )\n",
    "    cv_Knn = cross_val_score(Clf4_search_parameter,X_test, y_test, cv=10, scoring = 'f1') \n",
    "    knn_f1.append(cv_Knn.mean())"
   ]
  },
  {
   "cell_type": "code",
   "execution_count": 639,
   "id": "b6564b9b",
   "metadata": {},
   "outputs": [
    {
     "data": {
      "text/plain": [
       "[0.8665085540257953, 0.8665085540257953]"
      ]
     },
     "execution_count": 639,
     "metadata": {},
     "output_type": "execute_result"
    }
   ],
   "source": [
    "knn_f1"
   ]
  },
  {
   "cell_type": "code",
   "execution_count": null,
   "id": "ef554454",
   "metadata": {},
   "outputs": [],
   "source": []
  }
 ],
 "metadata": {
  "kernelspec": {
   "display_name": "Python 3 (ipykernel)",
   "language": "python",
   "name": "python3"
  },
  "language_info": {
   "codemirror_mode": {
    "name": "ipython",
    "version": 3
   },
   "file_extension": ".py",
   "mimetype": "text/x-python",
   "name": "python",
   "nbconvert_exporter": "python",
   "pygments_lexer": "ipython3",
   "version": "3.9.7"
  }
 },
 "nbformat": 4,
 "nbformat_minor": 5
}
